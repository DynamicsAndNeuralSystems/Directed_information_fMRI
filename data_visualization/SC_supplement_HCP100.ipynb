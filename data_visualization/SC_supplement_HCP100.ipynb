{
 "cells": [
  {
   "cell_type": "code",
   "execution_count": 2,
   "metadata": {},
   "outputs": [],
   "source": [
    "import pandas as pd\n",
    "import numpy as np\n",
    "import random\n",
    "\n",
    "# File operations\n",
    "from copy import deepcopy\n",
    "import glob\n",
    "import os\n",
    "from pathlib import Path\n",
    "\n",
    "# Stats\n",
    "from scipy.spatial.distance import cdist\n",
    "from scipy.stats import spearmanr, wilcoxon, mannwhitneyu\n",
    "import statsmodels.stats.multitest\n",
    "\n",
    "# Neuromaps\n",
    "import neuromaps\n",
    "from neuromaps.parcellate import Parcellater\n",
    "from neuromaps import datasets, images, nulls, resampling, stats\n",
    "from nibabel import freesurfer as fs\n",
    "import nibabel as nib\n",
    "from neuromaps.datasets import fetch_annotation, fetch_fslr\n",
    "from enigmatoolbox.datasets import load_sc, load_fc\n",
    "from nilearn.image import resample_to_img\n",
    "\n",
    "# Set seed to 127\n",
    "random.seed(127)\n",
    "\n",
    "# Add connectome workbench to path\n",
    "os.environ['PATH'] = os.environ['PATH'] + ':/Applications/workbench/bin_macosx64'\n",
    "\n",
    "%load_ext rpy2.ipython"
   ]
  },
  {
   "cell_type": "code",
   "execution_count": 3,
   "metadata": {},
   "outputs": [],
   "source": [
    "%%R \n",
    "\n",
    "suppressPackageStartupMessages({\n",
    "    library(broom)\n",
    "    library(cowplot)\n",
    "    library(ggseg)\n",
    "    library(glue)\n",
    "    library(grid)\n",
    "    library(patchwork)\n",
    "    library(see)\n",
    "    library(tidyverse)\n",
    "})\n",
    "\n",
    "# Set cowplot theme\n",
    "theme_set(theme_cowplot())"
   ]
  },
  {
   "cell_type": "code",
   "execution_count": 10,
   "metadata": {},
   "outputs": [
    {
     "name": "stderr",
     "output_type": "stream",
     "text": [
      "/Users/abry4213/miniforge3/envs/annie_env/lib/python3.9/site-packages/pandas/core/arraylike.py:399: RuntimeWarning: divide by zero encountered in log10\n",
      "  result = getattr(ufunc, method)(*inputs, **kwargs)\n"
     ]
    }
   ],
   "source": [
    "#### GROUP-AVERAGED FUNCTIONAL CONNECTOME FROM ENIGMA #### \n",
    "# Load cortico-cortical functional connectivity data\n",
    "fc_ctx, fc_ctx_labels, _, _ = load_fc(parcellation='aparc')\n",
    "\n",
    "# Read in preprocessed Pearson-based functional connectivity data from ENIGMA\n",
    "HCP_avg_Pearson_FC = (pd.DataFrame(fc_ctx, columns=fc_ctx_labels)\n",
    "                      .assign(Brain_Region_From = fc_ctx_labels)\n",
    "                      .melt(id_vars=[\"Brain_Region_From\"], \n",
    "                             var_name=\"Brain_Region_To\", \n",
    "                             value_name=\"Mean_Pearson_R\")\n",
    "                      .assign(Base_Region_From = lambda x: x['Brain_Region_From'].str.replace(\"L_\", \"\").str.replace(\"R_\", \"\"),\n",
    "                              Base_Region_To = lambda x: x['Brain_Region_To'].str.replace(\"L_\", \"\").str.replace(\"R_\", \"\"),\n",
    "                              Hemi_From = lambda x: np.where(x['Brain_Region_From'].str.startswith(\"L_\"), \"Left\", \"Right\"),\n",
    "                              Hemi_To = lambda x: np.where(x['Brain_Region_To'].str.startswith(\"L_\"), \"Left\", \"Right\"))\n",
    ")\n",
    "pearson_homotopic_res_mean = (HCP_avg_Pearson_FC\n",
    "                              .query(\"Base_Region_From == Base_Region_To\")\n",
    "                              .groupby([\"Base_Region_From\"])['Mean_Pearson_R']\n",
    "                              .mean() \n",
    "                              .reset_index()\n",
    "                              .rename(columns={\"Base_Region_From\": \"Base_Region\"})\n",
    "                              )\n",
    "\n",
    "ENIGMA_sc_ctx, ENIGMA_sc_ctx_labels, _, _ = load_sc(parcellation='aparc')\n",
    "\n",
    "fallon2020_SC_data = (pd\n",
    "                      .read_csv(\"/Users/abry4213/data/HCP/HCP100/raw_data/diffusion_MRI/aparc_HCP100_group_avg_SIFT2_mean.csv\", header=None, names=ENIGMA_sc_ctx_labels)\n",
    "                      .assign(Brain_Region_To = ENIGMA_sc_ctx_labels)\n",
    "                      .melt(id_vars='Brain_Region_To', var_name='Brain_Region_From', value_name='SC_mean')\n",
    "                       .assign(Base_Region_From = lambda x: x['Brain_Region_From'].str.replace(\"L_\", \"\").str.replace(\"R_\", \"\"),\n",
    "                                   Base_Region_To = lambda x: x['Brain_Region_To'].str.replace(\"L_\", \"\").str.replace(\"R_\", \"\"),\n",
    "                                   Hemi_From = lambda x: np.where(x['Brain_Region_From'].str.startswith(\"L_\"), \"Left\", \"Right\"),\n",
    "                                   Hemi_To = lambda x: np.where(x['Brain_Region_To'].str.startswith(\"L_\"), \"Left\", \"Right\"))\n",
    "                                   .query(\"Base_Region_From == Base_Region_To\")\n",
    "                                   .groupby([\"Base_Region_From\"])['SC_mean']\n",
    "                                   .mean() \n",
    "                                   .reset_index()\n",
    "                                   .rename(columns={\"Base_Region_From\": \"Base_Region\"})\n",
    "                     .assign(SC_mean = lambda x: np.log10(x.SC_mean))\n",
    "                     # Set values to 0 if they are negative or -Inf\n",
    "                     .assign(SC_mean = lambda x: np.where(x.SC_mean < 0, 0, x.SC_mean))\n",
    "\n",
    "                      )"
   ]
  },
  {
   "cell_type": "code",
   "execution_count": 20,
   "metadata": {},
   "outputs": [
    {
     "name": "stdout",
     "output_type": "stream",
     "text": [
      "Joining with `by = join_by(label)`\n"
     ]
    },
    {
     "data": {
      "text/plain": [
       "merging atlas and data by 'label', 'atlas', 'type', 'hemi', 'side', 'region', 'roi'\n"
      ]
     },
     "metadata": {},
     "output_type": "display_data"
    }
   ],
   "source": [
    "%%R -i fallon2020_SC_data\n",
    "\n",
    "fallon2020_SC_data %>%\n",
    "    mutate(label = glue(\"lh_{Base_Region}\")) %>%\n",
    "    left_join(., as_tibble(dk)) %>%\n",
    "    ggseg(atlas = dk, mapping = aes(fill = SC_mean),\n",
    "            position = \"stacked\", colour = \"black\", hemisphere=\"left\",\n",
    "            linewidth=0.5) +\n",
    "    theme_void() +\n",
    "    labs(fill = \"Log-streamline count\") +\n",
    "    scale_fill_gradient(low=\"white\", high=\"#10b8e8\", na.value=\"white\")+\n",
    "    theme(plot.title = element_blank(),\n",
    "    legend.key.width  = unit(3, \"lines\"),\n",
    "    legend.key.height  = unit(0.75, \"lines\"),\n",
    "    legend.position = \"bottom\") +\n",
    "    guides(fill = guide_colourbar(frame.colour = \"black\", ticks.colour = \"black\",\n",
    "                                  title.position=\"top\", title.hjust=0.5))\n",
    "# ggsave(\"../plots/brain_maps_corrs/SC_Fallon_HCP100_nothresh_mean_log_ggseg.svg\", width=4, height=2, dpi=300, units='in')"
   ]
  },
  {
   "cell_type": "code",
   "execution_count": 12,
   "metadata": {},
   "outputs": [],
   "source": [
    "merged_fallonSC_enigmaFC = pd.merge(fallon2020_SC_data, pearson_homotopic_res_mean, on='Base_Region', how='left')"
   ]
  },
  {
   "cell_type": "code",
   "execution_count": 25,
   "metadata": {},
   "outputs": [],
   "source": [
    "%%R -i merged_fallonSC_enigmaFC\n",
    "\n",
    "merged_fallonSC_enigmaFC %>%\n",
    "    ggplot(data=., mapping=aes(x=SC_mean, y=Mean_Pearson_R, fill=SC_mean)) +\n",
    "    geom_point(color='black', shape=21, size=4) +\n",
    "    scale_fill_gradient(low=\"white\", high=\"#10b8e8\", na.value=\"white\")+\n",
    "    # ggpubr::stat_cor(method=\"spearman\", cor.coef.name=\"rho\", size=5, aes(label = ..r.label..)) +\n",
    "    theme(legend.position='none')\n",
    "\n",
    "ggsave(\"../plots/brain_maps_corrs/SC_Fallon_HCP100_nothresh_mean_log_scatter.svg\", width=3.25, height=2.85, dpi=300, units=\"in\")"
   ]
  },
  {
   "cell_type": "markdown",
   "metadata": {},
   "source": [
    "# Spin test"
   ]
  },
  {
   "cell_type": "code",
   "execution_count": 15,
   "metadata": {},
   "outputs": [
    {
     "data": {
      "text/html": [
       "<div>\n",
       "<style scoped>\n",
       "    .dataframe tbody tr th:only-of-type {\n",
       "        vertical-align: middle;\n",
       "    }\n",
       "\n",
       "    .dataframe tbody tr th {\n",
       "        vertical-align: top;\n",
       "    }\n",
       "\n",
       "    .dataframe thead th {\n",
       "        text-align: right;\n",
       "    }\n",
       "</style>\n",
       "<table border=\"1\" class=\"dataframe\">\n",
       "  <thead>\n",
       "    <tr style=\"text-align: right;\">\n",
       "      <th></th>\n",
       "      <th>Comparison</th>\n",
       "      <th>SpearmanR</th>\n",
       "      <th>pval</th>\n",
       "      <th>SpearmanR_spin</th>\n",
       "      <th>pval_spin</th>\n",
       "    </tr>\n",
       "  </thead>\n",
       "  <tbody>\n",
       "    <tr>\n",
       "      <th>0</th>\n",
       "      <td>Fallon_HCP100_SC</td>\n",
       "      <td>0.176758</td>\n",
       "      <td>0.3173</td>\n",
       "      <td>0.176758</td>\n",
       "      <td>0.313469</td>\n",
       "    </tr>\n",
       "  </tbody>\n",
       "</table>\n",
       "</div>"
      ],
      "text/plain": [
       "         Comparison  SpearmanR    pval  SpearmanR_spin  pval_spin\n",
       "0  Fallon_HCP100_SC   0.176758  0.3173        0.176758   0.313469"
      ]
     },
     "execution_count": 15,
     "metadata": {},
     "output_type": "execute_result"
    }
   ],
   "source": [
    "# Define the left- and right-hemisphere Desikan-Killiany (DK) atlas\n",
    "lh_dk = \"../data/fsaverage/lh.aparc.annot\"\n",
    "rh_dk = \"../data/fsaverage/rh.aparc.annot\"\n",
    "\n",
    "# Convert the DK atlas to gifti format\n",
    "# dk_gifti = neuromaps.images.annot_to_gifti((lh_dk, rh_dk), background=None)\n",
    "dk_gifti = neuromaps.images.annot_to_gifti(lh_dk, background=None)\n",
    "dk_gifti = neuromaps.images.relabel_gifti(dk_gifti)\n",
    "\n",
    "# Fit a Parcellator object\n",
    "dk_parc = Parcellater(dk_gifti, 'fsLR', resampling_target='parcellation', hemi='L')\n",
    "\n",
    "# Create a dictionary of values to compare\n",
    "rng = np.random.default_rng(seed=127)  # for reproducibility\n",
    "struct_measure = merged_fallonSC_enigmaFC.SC_mean.values\n",
    "HoFC_measure = merged_fallonSC_enigmaFC['Mean_Pearson_R'].values\n",
    "\n",
    "# Assume you are working with fsaverage and the Desikan-Killiany atlas\n",
    "atlas = 'fsLR'\n",
    "\n",
    "# Use the corresponding brain map to generate the nulls\n",
    "spins = nulls.alexander_bloch(struct_measure, atlas=atlas, parcellation=dk_gifti, density='164k',\n",
    "                            n_perm=10000, seed=127)\n",
    "\n",
    "# Step 4: Compare HoFC and corresponding brain map using the nulls\n",
    "stat, p = spearmanr(HoFC_measure, struct_measure)\n",
    "stat_spin, p_spin = stats.compare_images(HoFC_measure, struct_measure, ignore_zero=False, nulls=spins, metric='spearmanr')\n",
    "\n",
    "# this_map\n",
    "this_map_spin_res = pd.DataFrame({\"Comparison\": \"Fallon_HCP100_SC\", \n",
    "                                    \"SpearmanR\": stat, \n",
    "                                    \"pval\": p,\n",
    "                                    \"SpearmanR_spin\": stat_spin,\n",
    "                                    \"pval_spin\": p_spin}, index=[0])\n",
    "this_map_spin_res"
   ]
  },
  {
   "cell_type": "markdown",
   "metadata": {},
   "source": [
    "fallon2020_SC_data.merge(pearson_homotopic_res_mean, on='Base_Region', how='left') "
   ]
  }
 ],
 "metadata": {
  "kernelspec": {
   "display_name": "annie_env",
   "language": "python",
   "name": "python3"
  },
  "language_info": {
   "codemirror_mode": {
    "name": "ipython",
    "version": 3
   },
   "file_extension": ".py",
   "mimetype": "text/x-python",
   "name": "python",
   "nbconvert_exporter": "python",
   "pygments_lexer": "ipython3",
   "version": "3.9.21"
  }
 },
 "nbformat": 4,
 "nbformat_minor": 2
}
