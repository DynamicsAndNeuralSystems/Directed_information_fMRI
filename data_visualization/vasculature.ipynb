{
 "cells": [
  {
   "cell_type": "code",
   "execution_count": 7,
   "metadata": {},
   "outputs": [
    {
     "name": "stdout",
     "output_type": "stream",
     "text": [
      "The rpy2.ipython extension is already loaded. To reload it, use:\n",
      "  %reload_ext rpy2.ipython\n"
     ]
    }
   ],
   "source": [
    "import pandas as pd\n",
    "import numpy as np\n",
    "import random\n",
    "\n",
    "# File operations\n",
    "from copy import deepcopy\n",
    "import glob\n",
    "import os\n",
    "from pathlib import Path\n",
    "\n",
    "# Stats\n",
    "from scipy.spatial.distance import cdist\n",
    "from scipy.stats import spearmanr, wilcoxon, mannwhitneyu, zscore\n",
    "import statsmodels.stats.multitest\n",
    "\n",
    "# Neuromaps\n",
    "import neuromaps\n",
    "from neuromaps.parcellate import Parcellater\n",
    "from neuromaps import datasets, images, nulls, resampling, stats\n",
    "from nibabel import freesurfer as fs\n",
    "import nibabel as nib\n",
    "from neuromaps.datasets import fetch_annotation, fetch_fslr\n",
    "from enigmatoolbox.datasets import load_sc, load_fc, load_fc_as_one\n",
    "from nilearn.image import resample_to_img\n",
    "\n",
    "# Set seed to 127\n",
    "random.seed(127)\n",
    "\n",
    "# Add connectome workbench to path\n",
    "os.environ['PATH'] = os.environ['PATH'] + ':/Applications/workbench/bin_macosx64'\n",
    "\n",
    "%load_ext rpy2.ipython"
   ]
  },
  {
   "cell_type": "code",
   "execution_count": 2,
   "metadata": {},
   "outputs": [],
   "source": [
    "%%R \n",
    "\n",
    "suppressPackageStartupMessages({\n",
    "    library(broom)\n",
    "    library(circlize)\n",
    "    library(ComplexHeatmap)\n",
    "    library(cowplot)\n",
    "    library(dendextend)\n",
    "    library(FactoMineR)\n",
    "    library(GGally)\n",
    "    library(ggseg)\n",
    "    library(glue)\n",
    "    library(grid)\n",
    "    library(patchwork)\n",
    "    library(see)\n",
    "    library(tidyverse)\n",
    "})\n",
    "\n",
    "# Set cowplot theme\n",
    "theme_set(theme_cowplot())"
   ]
  },
  {
   "cell_type": "code",
   "execution_count": 67,
   "metadata": {},
   "outputs": [],
   "source": [
    "data_path = \"/Users/abry4213/github/Homotopic_FC/data/\"\n",
    "\n",
    "#### GROUP-AVERAGED FUNCTIONAL CONNECTOME FROM ENIGMA #### \n",
    "# Load cortico-cortical functional connectivity data\n",
    "fc_ctx, fc_ctx_labels, _, _ = load_fc(parcellation='aparc')\n",
    "\n",
    "# Read in preprocessed Pearson-based functional connectivity data from ENIGMA\n",
    "HCP_ctx_avg_Pearson_FC = (pd.DataFrame(fc_ctx, columns=fc_ctx_labels)\n",
    "                      .assign(Brain_Region_From = fc_ctx_labels)\n",
    "                      .melt(id_vars=[\"Brain_Region_From\"], \n",
    "                             var_name=\"Brain_Region_To\", \n",
    "                             value_name=\"Mean_Pearson_R\")\n",
    "                      .assign(Base_Region_From = lambda x: x['Brain_Region_From'].str.replace(\"L_\", \"\").str.replace(\"R_\", \"\"),\n",
    "                              Base_Region_To = lambda x: x['Brain_Region_To'].str.replace(\"L_\", \"\").str.replace(\"R_\", \"\"),\n",
    "                              Hemi_From = lambda x: np.where(x['Brain_Region_From'].str.startswith(\"L_\"), \"Left\", \"Right\"),\n",
    "                              Hemi_To = lambda x: np.where(x['Brain_Region_To'].str.startswith(\"L_\"), \"Left\", \"Right\"))\n",
    ")\n",
    "\n",
    "pearson_homotopic_res_mean = (HCP_ctx_avg_Pearson_FC\n",
    "                              .query(\"Base_Region_From == Base_Region_To\")\n",
    "                              .groupby([\"Base_Region_From\"])['Mean_Pearson_R']\n",
    "                              .mean() \n",
    "                              .reset_index()\n",
    "                              .rename(columns={\"Base_Region_From\": \"Base_Region\"})\n",
    "                              )"
   ]
  },
  {
   "cell_type": "markdown",
   "metadata": {},
   "source": [
    "Read in neuroimaging data:"
   ]
  },
  {
   "cell_type": "code",
   "execution_count": 61,
   "metadata": {},
   "outputs": [],
   "source": [
    "if not os.path.isfile(f\"{data_path}/Arterial_Venous_Mean_Density_aparc.csv\"):\n",
    "\n",
    "    # aparc + aseg volume\n",
    "    ROI_image = nib.load(\"/Users/abry4213/data/neuroimaging_atlases/volumes/freesurfer_segmentations/mni152_space/atlas-desikankilliany.nii.gz\")\n",
    "    ROI_lookup = pd.read_csv(\"/Users/abry4213/data/neuroimaging_atlases/volumes/freesurfer_segmentations/mni152_space/atlas-desikankilliany.csv\")\n",
    "\n",
    "    # Read in vasculature volumes (arterial and venous)\n",
    "    arterial_image = nib.load(f\"{data_path}/vasculature/mean_Ved_ToF_filt.nii.gz\")\n",
    "    venous_image = nib.load(f\"{data_path}/vasculature/mean_Ved_swi_filt.nii.gz\")\n",
    "\n",
    "    # Downsample the segmentation volume to match the vasculature images\n",
    "    ROI_image_resampled = resample_to_img(ROI_image, arterial_image, interpolation='nearest')\n",
    "    ROI_data_resampled = ROI_image_resampled.get_fdata().flatten()\n",
    "\n",
    "    # Extract data arrays\n",
    "    venous_data = venous_image.get_fdata().flatten()\n",
    "    arterial_data = arterial_image.get_fdata().flatten()\n",
    "\n",
    "    ROI_indices = [int(i) for i in np.unique(ROI_data_resampled) if i != 0]\n",
    "\n",
    "    regional_vascular_data_list = [] \n",
    "\n",
    "    for this_index in ROI_indices:\n",
    "        region_info = ROI_lookup.query(\"id == @this_index\")[['id', 'label', 'hemisphere']]\n",
    "\n",
    "        arterial_roi_data = np.mean(arterial_data[ROI_data_resampled == this_index])\n",
    "        venous_roi_data = np.mean(venous_data[ROI_data_resampled == this_index])\n",
    "\n",
    "        ROI_vascular_df = pd.DataFrame({\"id\": this_index,\n",
    "                                        \"Arterial_Vascular\": arterial_roi_data,\n",
    "                                        \"Venous_Vascular\": venous_roi_data}, index=[0]).merge(region_info, on='id', how='left')\n",
    "        \n",
    "        regional_vascular_data_list.append(ROI_vascular_df)\n",
    "\n",
    "    regional_vascular_data = (pd.concat(regional_vascular_data_list, ignore_index=True)\n",
    "                            .rename(columns={\"label\": \"Base_Region\",\n",
    "                                            'hemisphere': \"Hemisphere\"})\n",
    "    )\n",
    "\n",
    "    # Save to CSV\n",
    "    regional_vascular_data.to_csv(f\"{data_path}/Arterial_Venous_Mean_Density_aparc.csv\", index=False)\n",
    "\n",
    "else: \n",
    "    regional_vascular_data = pd.read_csv(f\"{data_path}/Arterial_Venous_Mean_Density_aparc.csv\")\n",
    "\n",
    "# Take the mean of left/right\n",
    "regional_vascular_data = regional_vascular_data.groupby(['Base_Region'])[['Arterial_Vascular', 'Venous_Vascular']].mean().reset_index()"
   ]
  },
  {
   "cell_type": "code",
   "execution_count": 83,
   "metadata": {},
   "outputs": [
    {
     "name": "stdout",
     "output_type": "stream",
     "text": [
      "Joining with `by = join_by(label)`\n"
     ]
    },
    {
     "data": {
      "text/plain": [
       "merging atlas and data by 'label', 'atlas', 'type', 'hemi', 'side', 'region', 'roi'\n",
       "In addition: Warning message:\n",
       "Some data not merged properly. Check for naming errors in data:\n",
       "  atlas type  hemi  side  region label       roi   Base_Region Arterial_Vascular\n",
       "  <chr> <chr> <chr> <chr> <chr>  <glue>      <chr> <chr>                   <dbl>\n",
       "1 <NA>  <NA>  <NA>  <NA>  <NA>   lh_accumbe… <NA>  accumbensa…              41.7\n",
       "2 <NA>  <NA>  <NA>  <NA>  <NA>   lh_amygdala <NA>  amygdala                 22.4\n",
       "3 <NA>  <NA>  <NA>  <NA>  <NA>   lh_brainst… <NA>  brainstem                46.9\n",
       "4 <NA>  <NA>  <NA>  <NA>  <NA>   lh_caudate  <NA>  caudate                  14.9\n",
       "5 <NA>  <NA>  <NA>  <NA>  <NA>   lh_hippoca… <NA>  hippocampus              21.0\n",
       "6 <NA>  <NA>  <NA>  <NA>  <NA>   lh_pallidum <NA>  pallidum                 13.4\n",
       "7 <NA>  <NA>  <NA>  <NA>  <NA>   lh_putamen  <NA>  putamen                  18.4\n",
       "8 <NA>  <NA>  <NA>  <NA>  <NA>   lh_thalamu… <NA>  thalamuspr…              17.4\n",
       "# ℹ 2 more variables: Venous_Vascular <dbl>, geometry <MULTIPOLYGON> \n"
      ]
     },
     "metadata": {},
     "output_type": "display_data"
    }
   ],
   "source": [
    "%%R -i regional_vascular_data\n",
    "\n",
    "### Pearson FC in brain ###\n",
    "regional_vascular_data %>%\n",
    "  ungroup() %>%\n",
    "  mutate(label = glue(\"lh_{Base_Region}\")) %>%\n",
    "  left_join(., as_tibble(dk)) %>%\n",
    "  ggseg(atlas = dk, mapping = aes(fill = Arterial_Vascular),\n",
    "        position = \"stacked\", colour = \"black\", hemisphere=\"left\",\n",
    "        linewidth=0.5) +\n",
    "  theme_void() +\n",
    "  labs(fill = \"Mean arterial density\") +\n",
    "  theme(plot.title = element_blank(),\n",
    "        legend.position = \"bottom\") +\n",
    "  scale_fill_gradient(low = \"white\", high = \"red\", na.value=\"white\")\n",
    "\n",
    "ggsave(\"arterial.png\", width=5, height=3, units='in', dpi=300)"
   ]
  },
  {
   "cell_type": "code",
   "execution_count": 84,
   "metadata": {},
   "outputs": [
    {
     "name": "stdout",
     "output_type": "stream",
     "text": [
      "Joining with `by = join_by(label)`\n"
     ]
    },
    {
     "data": {
      "text/plain": [
       "merging atlas and data by 'label', 'atlas', 'type', 'hemi', 'side', 'region', 'roi'\n",
       "In addition: Warning message:\n",
       "Some data not merged properly. Check for naming errors in data:\n",
       "  atlas type  hemi  side  region label       roi   Base_Region Arterial_Vascular\n",
       "  <chr> <chr> <chr> <chr> <chr>  <glue>      <chr> <chr>                   <dbl>\n",
       "1 <NA>  <NA>  <NA>  <NA>  <NA>   lh_accumbe… <NA>  accumbensa…              41.7\n",
       "2 <NA>  <NA>  <NA>  <NA>  <NA>   lh_amygdala <NA>  amygdala                 22.4\n",
       "3 <NA>  <NA>  <NA>  <NA>  <NA>   lh_brainst… <NA>  brainstem                46.9\n",
       "4 <NA>  <NA>  <NA>  <NA>  <NA>   lh_caudate  <NA>  caudate                  14.9\n",
       "5 <NA>  <NA>  <NA>  <NA>  <NA>   lh_hippoca… <NA>  hippocampus              21.0\n",
       "6 <NA>  <NA>  <NA>  <NA>  <NA>   lh_pallidum <NA>  pallidum                 13.4\n",
       "7 <NA>  <NA>  <NA>  <NA>  <NA>   lh_putamen  <NA>  putamen                  18.4\n",
       "8 <NA>  <NA>  <NA>  <NA>  <NA>   lh_thalamu… <NA>  thalamuspr…              17.4\n",
       "# ℹ 2 more variables: Venous_Vascular <dbl>, geometry <MULTIPOLYGON> \n"
      ]
     },
     "metadata": {},
     "output_type": "display_data"
    }
   ],
   "source": [
    "%%R -i regional_vascular_data\n",
    "\n",
    "### Pearson FC in brain ###\n",
    "regional_vascular_data %>%\n",
    "  ungroup() %>%\n",
    "  mutate(label = glue(\"lh_{Base_Region}\")) %>%\n",
    "  left_join(., as_tibble(dk)) %>%\n",
    "  ggseg(atlas = dk, mapping = aes(fill = Venous_Vascular),\n",
    "        position = \"stacked\", colour = \"black\", hemisphere=\"left\",\n",
    "        linewidth=0.5) +\n",
    "  theme_void() +\n",
    "  labs(fill = \"Mean venous density\") +\n",
    "  theme(plot.title = element_blank(),\n",
    "        legend.position = \"bottom\") +\n",
    "  scale_fill_gradient(low = \"white\", high = \"red\", na.value=\"white\")\n",
    "\n",
    "\n",
    "ggsave(\"venous.png\", width=5, height=3, units='in', dpi=300)"
   ]
  },
  {
   "cell_type": "markdown",
   "metadata": {},
   "source": [
    "## Is homotopic connectivity correlated with vascular innervation?"
   ]
  },
  {
   "cell_type": "code",
   "execution_count": 68,
   "metadata": {},
   "outputs": [
    {
     "data": {
      "text/html": [
       "<div>\n",
       "<style scoped>\n",
       "    .dataframe tbody tr th:only-of-type {\n",
       "        vertical-align: middle;\n",
       "    }\n",
       "\n",
       "    .dataframe tbody tr th {\n",
       "        vertical-align: top;\n",
       "    }\n",
       "\n",
       "    .dataframe thead th {\n",
       "        text-align: right;\n",
       "    }\n",
       "</style>\n",
       "<table border=\"1\" class=\"dataframe\">\n",
       "  <thead>\n",
       "    <tr style=\"text-align: right;\">\n",
       "      <th></th>\n",
       "      <th>Base_Region</th>\n",
       "      <th>Mean_Pearson_R</th>\n",
       "      <th>Arterial_Vascular</th>\n",
       "      <th>Venous_Vascular</th>\n",
       "    </tr>\n",
       "  </thead>\n",
       "  <tbody>\n",
       "    <tr>\n",
       "      <th>0</th>\n",
       "      <td>bankssts</td>\n",
       "      <td>0.314670</td>\n",
       "      <td>5.629985</td>\n",
       "      <td>39.885609</td>\n",
       "    </tr>\n",
       "    <tr>\n",
       "      <th>1</th>\n",
       "      <td>caudalanteriorcingulate</td>\n",
       "      <td>0.213912</td>\n",
       "      <td>20.057773</td>\n",
       "      <td>38.279240</td>\n",
       "    </tr>\n",
       "    <tr>\n",
       "      <th>2</th>\n",
       "      <td>caudalmiddlefrontal</td>\n",
       "      <td>0.330858</td>\n",
       "      <td>17.089778</td>\n",
       "      <td>32.134382</td>\n",
       "    </tr>\n",
       "    <tr>\n",
       "      <th>3</th>\n",
       "      <td>cuneus</td>\n",
       "      <td>0.644840</td>\n",
       "      <td>15.818715</td>\n",
       "      <td>69.034659</td>\n",
       "    </tr>\n",
       "    <tr>\n",
       "      <th>4</th>\n",
       "      <td>entorhinal</td>\n",
       "      <td>0.029524</td>\n",
       "      <td>27.140752</td>\n",
       "      <td>80.060211</td>\n",
       "    </tr>\n",
       "  </tbody>\n",
       "</table>\n",
       "</div>"
      ],
      "text/plain": [
       "               Base_Region  Mean_Pearson_R  Arterial_Vascular  Venous_Vascular\n",
       "0                 bankssts        0.314670           5.629985        39.885609\n",
       "1  caudalanteriorcingulate        0.213912          20.057773        38.279240\n",
       "2      caudalmiddlefrontal        0.330858          17.089778        32.134382\n",
       "3                   cuneus        0.644840          15.818715        69.034659\n",
       "4               entorhinal        0.029524          27.140752        80.060211"
      ]
     },
     "execution_count": 68,
     "metadata": {},
     "output_type": "execute_result"
    }
   ],
   "source": [
    "HoFC_and_vascular_info = pd.merge(pearson_homotopic_res_mean, regional_vascular_data, on='Base_Region', how='left')\n",
    "\n",
    "HoFC_and_vascular_info.head()"
   ]
  },
  {
   "cell_type": "code",
   "execution_count": 86,
   "metadata": {},
   "outputs": [
    {
     "name": "stdout",
     "output_type": "stream",
     "text": [
      "`geom_smooth()` using formula = 'y ~ x'\n"
     ]
    }
   ],
   "source": [
    "%%R -i HoFC_and_vascular_info -w 800 -h 400\n",
    "\n",
    "HoFC_and_vascular_info %>% \n",
    "    pivot_longer(cols=c(\"Arterial_Vascular\", \"Venous_Vascular\"), \n",
    "                 names_to=\"Vascular_Type\", values_to=\"Mean_Vascular_Density\") %>%\n",
    "    ggplot(aes(x=Mean_Vascular_Density, y=Mean_Pearson_R)) +\n",
    "    geom_point(color='red', size=2) +\n",
    "    facet_wrap(Vascular_Type ~ ., scales='free') +\n",
    "    geom_smooth(method='lm', se=FALSE, color=\"black\") +\n",
    "    xlab(\"Mean Vascular Density\") +\n",
    "    ylab(\"Mean Pearson Homotopic FC\") +\n",
    "    ggpubr::stat_cor(method = \"spearman\", cor.coef.name='rho', label.y = 0.1, size=5) +\n",
    "    theme(legend.position='none',\n",
    "          strip.background = element_blank(),\n",
    "          strip.text = element_text(size=14, face='bold'))\n",
    "\n",
    "\n",
    "ggsave(\"scatters.png\", width=7, height=3.5, units='in', dpi=300)"
   ]
  }
 ],
 "metadata": {
  "kernelspec": {
   "display_name": "annie_env",
   "language": "python",
   "name": "python3"
  },
  "language_info": {
   "codemirror_mode": {
    "name": "ipython",
    "version": 3
   },
   "file_extension": ".py",
   "mimetype": "text/x-python",
   "name": "python",
   "nbconvert_exporter": "python",
   "pygments_lexer": "ipython3",
   "version": "3.9.21"
  }
 },
 "nbformat": 4,
 "nbformat_minor": 2
}
