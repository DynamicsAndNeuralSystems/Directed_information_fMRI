{
 "cells": [
  {
   "cell_type": "code",
   "execution_count": 23,
   "metadata": {},
   "outputs": [
    {
     "name": "stdout",
     "output_type": "stream",
     "text": [
      "The rpy2.ipython extension is already loaded. To reload it, use:\n",
      "  %reload_ext rpy2.ipython\n"
     ]
    }
   ],
   "source": [
    "import pandas as pd\n",
    "import numpy as np\n",
    "import random\n",
    "\n",
    "# File operations\n",
    "from copy import deepcopy\n",
    "import glob\n",
    "import os\n",
    "from pathlib import Path\n",
    "\n",
    "# Stats\n",
    "from scipy.spatial.distance import cdist\n",
    "from scipy.stats import spearmanr, wilcoxon, mannwhitneyu, zscore\n",
    "import statsmodels.stats.multitest\n",
    "\n",
    "# Neuromaps\n",
    "import neuromaps\n",
    "from neuromaps.parcellate import Parcellater\n",
    "from neuromaps import datasets, images, nulls, resampling, stats\n",
    "from nibabel import freesurfer as fs\n",
    "import nibabel as nib\n",
    "from neuromaps.datasets import fetch_annotation, fetch_fslr\n",
    "from enigmatoolbox.datasets import load_sc, load_fc, load_fc_as_one\n",
    "\n",
    "# Set seed to 127\n",
    "random.seed(127)\n",
    "\n",
    "# Add connectome workbench to path\n",
    "os.environ['PATH'] = os.environ['PATH'] + ':/Applications/workbench/bin_macosx64'\n",
    "\n",
    "%load_ext rpy2.ipython"
   ]
  },
  {
   "cell_type": "code",
   "execution_count": 24,
   "metadata": {},
   "outputs": [],
   "source": [
    "%%R \n",
    "\n",
    "suppressPackageStartupMessages({\n",
    "    library(broom)\n",
    "    library(circlize)\n",
    "    library(ComplexHeatmap)\n",
    "    library(cowplot)\n",
    "    library(dendextend)\n",
    "    library(FactoMineR)\n",
    "    library(GGally)\n",
    "    library(ggseg)\n",
    "    library(glue)\n",
    "    library(grid)\n",
    "    library(patchwork)\n",
    "    library(see)\n",
    "    library(tidyverse)\n",
    "})\n",
    "\n",
    "# Set cowplot theme\n",
    "theme_set(theme_cowplot())"
   ]
  },
  {
   "cell_type": "code",
   "execution_count": 30,
   "metadata": {},
   "outputs": [],
   "source": [
    "data_path = \"/Users/abry4213/github/Homotopic_FC/data/\"\n",
    "\n",
    "#### GROUP-AVERAGED FUNCTIONAL CONNECTOME FROM ENIGMA #### \n",
    "# Load cortico-cortical functional connectivity data\n",
    "fc_ctx, fc_ctx_labels, _, _ = load_fc(parcellation='schaefer_400')\n",
    "\n",
    "HCP_ctx_avg_homotopic_FC_schaefer400 = (pd.DataFrame(fc_ctx, columns=fc_ctx_labels)\n",
    "                      .assign(Brain_Region_From = fc_ctx_labels)\n",
    "                      .melt(id_vars=[\"Brain_Region_From\"], \n",
    "                             var_name=\"Brain_Region_To\", \n",
    "                             value_name=\"Mean_Pearson_R\")\n",
    "                      .assign(Hemisphere_From = lambda x: np.where(x[\"Brain_Region_From\"].str.contains(\"_LH_\"), \"Left\", \"Right\"),\n",
    "                              Hemisphere_To = lambda x: np.where(x[\"Brain_Region_To\"].str.contains(\"_LH_\"), \"Left\", \"Right\"),\n",
    "                              # Remove 7Networks_LH_ and 7Networks_RH_ from Brain_Region_From\n",
    "                            Base_Region_From = lambda x: x[\"Brain_Region_From\"].str.replace(\"7Networks_LH_\", \"\").str.replace(\"7Networks_RH_\", \"\"),\n",
    "                            Base_Region_To = lambda x: x[\"Brain_Region_To\"].str.replace(\"7Networks_LH_\", \"\").str.replace(\"7Networks_RH_\", \"\"))\n",
    "                      .query(\"Hemisphere_From != Hemisphere_To & Base_Region_From == Base_Region_To\")\n",
    "                      .groupby(['Base_Region_From'])['Mean_Pearson_R']\n",
    "                      .mean()\n",
    "                      .reset_index()\n",
    "                      .rename(columns={\"Base_Region_From\": \"Base_Region\", \n",
    "                                      \"Mean_Pearson_R\": \"Mean_Homotopic_FC\"})\n",
    ")"
   ]
  },
  {
   "cell_type": "code",
   "execution_count": 31,
   "metadata": {},
   "outputs": [
    {
     "data": {
      "text/html": [
       "<div>\n",
       "<style scoped>\n",
       "    .dataframe tbody tr th:only-of-type {\n",
       "        vertical-align: middle;\n",
       "    }\n",
       "\n",
       "    .dataframe tbody tr th {\n",
       "        vertical-align: top;\n",
       "    }\n",
       "\n",
       "    .dataframe thead th {\n",
       "        text-align: right;\n",
       "    }\n",
       "</style>\n",
       "<table border=\"1\" class=\"dataframe\">\n",
       "  <thead>\n",
       "    <tr style=\"text-align: right;\">\n",
       "      <th></th>\n",
       "      <th>Base_Region</th>\n",
       "      <th>Mean_Homotopic_FC</th>\n",
       "    </tr>\n",
       "  </thead>\n",
       "  <tbody>\n",
       "    <tr>\n",
       "      <th>0</th>\n",
       "      <td>Cont_Cing_1</td>\n",
       "      <td>0.064175</td>\n",
       "    </tr>\n",
       "    <tr>\n",
       "      <th>1</th>\n",
       "      <td>Cont_Cing_2</td>\n",
       "      <td>0.076572</td>\n",
       "    </tr>\n",
       "    <tr>\n",
       "      <th>2</th>\n",
       "      <td>Cont_PFCl_1</td>\n",
       "      <td>0.159350</td>\n",
       "    </tr>\n",
       "    <tr>\n",
       "      <th>3</th>\n",
       "      <td>Cont_PFCl_2</td>\n",
       "      <td>0.243530</td>\n",
       "    </tr>\n",
       "    <tr>\n",
       "      <th>4</th>\n",
       "      <td>Cont_PFCl_3</td>\n",
       "      <td>0.343680</td>\n",
       "    </tr>\n",
       "  </tbody>\n",
       "</table>\n",
       "</div>"
      ],
      "text/plain": [
       "   Base_Region  Mean_Homotopic_FC\n",
       "0  Cont_Cing_1           0.064175\n",
       "1  Cont_Cing_2           0.076572\n",
       "2  Cont_PFCl_1           0.159350\n",
       "3  Cont_PFCl_2           0.243530\n",
       "4  Cont_PFCl_3           0.343680"
      ]
     },
     "execution_count": 31,
     "metadata": {},
     "output_type": "execute_result"
    }
   ],
   "source": [
    "HCP_ctx_avg_homotopic_FC_schaefer400.head()"
   ]
  },
  {
   "cell_type": "code",
   "execution_count": 38,
   "metadata": {},
   "outputs": [
    {
     "data": {
      "text/html": [
       "<div>\n",
       "<style scoped>\n",
       "    .dataframe tbody tr th:only-of-type {\n",
       "        vertical-align: middle;\n",
       "    }\n",
       "\n",
       "    .dataframe tbody tr th {\n",
       "        vertical-align: top;\n",
       "    }\n",
       "\n",
       "    .dataframe thead th {\n",
       "        text-align: right;\n",
       "    }\n",
       "</style>\n",
       "<table border=\"1\" class=\"dataframe\">\n",
       "  <thead>\n",
       "    <tr style=\"text-align: right;\">\n",
       "      <th></th>\n",
       "      <th>Base_Region</th>\n",
       "      <th>Mean_Homotopic_FC</th>\n",
       "      <th>Core</th>\n",
       "      <th>Matrix</th>\n",
       "    </tr>\n",
       "  </thead>\n",
       "  <tbody>\n",
       "    <tr>\n",
       "      <th>0</th>\n",
       "      <td>Cont_Cing_1</td>\n",
       "      <td>0.064175</td>\n",
       "      <td>0.546640</td>\n",
       "      <td>0.453360</td>\n",
       "    </tr>\n",
       "    <tr>\n",
       "      <th>1</th>\n",
       "      <td>Cont_Cing_2</td>\n",
       "      <td>0.076572</td>\n",
       "      <td>0.364822</td>\n",
       "      <td>0.635178</td>\n",
       "    </tr>\n",
       "    <tr>\n",
       "      <th>2</th>\n",
       "      <td>Cont_PFCl_1</td>\n",
       "      <td>0.159350</td>\n",
       "      <td>0.476285</td>\n",
       "      <td>0.523715</td>\n",
       "    </tr>\n",
       "    <tr>\n",
       "      <th>3</th>\n",
       "      <td>Cont_PFCl_2</td>\n",
       "      <td>0.243530</td>\n",
       "      <td>0.397233</td>\n",
       "      <td>0.602767</td>\n",
       "    </tr>\n",
       "    <tr>\n",
       "      <th>4</th>\n",
       "      <td>Cont_PFCl_3</td>\n",
       "      <td>0.343680</td>\n",
       "      <td>0.406719</td>\n",
       "      <td>0.593281</td>\n",
       "    </tr>\n",
       "  </tbody>\n",
       "</table>\n",
       "</div>"
      ],
      "text/plain": [
       "   Base_Region  Mean_Homotopic_FC      Core    Matrix\n",
       "0  Cont_Cing_1           0.064175  0.546640  0.453360\n",
       "1  Cont_Cing_2           0.076572  0.364822  0.635178\n",
       "2  Cont_PFCl_1           0.159350  0.476285  0.523715\n",
       "3  Cont_PFCl_2           0.243530  0.397233  0.602767\n",
       "4  Cont_PFCl_3           0.343680  0.406719  0.593281"
      ]
     },
     "execution_count": 38,
     "metadata": {},
     "output_type": "execute_result"
    }
   ],
   "source": [
    "core_thalamus_gradient = pd.read_csv(f\"{data_path}/core_grad.csv\", header=None, names=[\"Core\"])\n",
    "matrix_thalamus_gradient = pd.read_csv(f\"{data_path}/matrix_grad.csv\", header=None, names=[\"Matrix\"])\n",
    "\n",
    "core_matrix_thalamus_df = (pd.concat([core_thalamus_gradient, matrix_thalamus_gradient], axis=1)\n",
    "                           .assign(Brain_Region = fc_ctx_labels)\n",
    "                           .assign(Base_Region = lambda x: x[\"Brain_Region\"].str.replace(\"7Networks_LH_\", \"\").str.replace(\"7Networks_RH_\", \"\"))\n",
    "                           .groupby(['Base_Region'])[['Core', 'Matrix']]\n",
    "                            .mean()\n",
    "                            .reset_index()\n",
    ")\n",
    "\n",
    "all_HoFC_thalamus_grad_df = (pd.merge(HCP_ctx_avg_homotopic_FC_schaefer400, core_matrix_thalamus_df, on=\"Base_Region\", how=\"left\"))\n",
    "\n",
    "all_HoFC_thalamus_grad_df.head()"
   ]
  },
  {
   "cell_type": "code",
   "execution_count": 40,
   "metadata": {},
   "outputs": [
    {
     "name": "stdout",
     "output_type": "stream",
     "text": [
      "`geom_smooth()` using formula = 'y ~ x'\n"
     ]
    },
    {
     "data": {
      "image/png": "[encoded data removed]",
      "text/plain": [
       "<IPython.core.display.Image object>"
      ]
     },
     "metadata": {},
     "output_type": "display_data"
    }
   ],
   "source": [
    "%%R -i all_HoFC_thalamus_grad_df\n",
    "\n",
    "all_HoFC_thalamus_grad_df %>%\n",
    "    ggplot(aes(x = Core, y = Mean_Homotopic_FC)) +\n",
    "    geom_point(size = 2) +\n",
    "    geom_smooth(method = \"lm\", se = FALSE) +\n",
    "    ggpubr::stat_cor(method = \"spearman\", label.x = 0.5, label.y = 0.5) "
   ]
  }
 ],
 "metadata": {
  "kernelspec": {
   "display_name": "annie_env",
   "language": "python",
   "name": "python3"
  },
  "language_info": {
   "codemirror_mode": {
    "name": "ipython",
    "version": 3
   },
   "file_extension": ".py",
   "mimetype": "text/x-python",
   "name": "python",
   "nbconvert_exporter": "python",
   "pygments_lexer": "ipython3",
   "version": "3.9.21"
  }
 },
 "nbformat": 4,
 "nbformat_minor": 2
}
