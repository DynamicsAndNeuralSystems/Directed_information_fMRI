{
 "cells": [
  {
   "cell_type": "code",
   "execution_count": 1,
   "metadata": {},
   "outputs": [],
   "source": [
    "import pandas as pd\n",
    "from pyspi.calculator import Calculator\n",
    "import numpy as np\n",
    "from copy import deepcopy\n",
    "import glob\n",
    "import os\n",
    "import random\n",
    "import neuromaps\n",
    "from neuromaps.parcellate import Parcellater\n",
    "from nibabel import freesurfer as fs\n",
    "import nibabel as nib\n",
    "from neuromaps.datasets import fetch_annotation\n",
    "from pathlib import Path\n",
    "from scipy.spatial.distance import cdist\n",
    "from scipy.stats import spearmanr\n",
    "import statsmodels.stats.multitest\n",
    "from surfplot import Plot\n",
    "from surfplot.datasets import load_example_data\n",
    "from neuromaps.datasets import fetch_fslr\n",
    "\n",
    "# Set seed to 127\n",
    "random.seed(127)\n",
    "\n",
    "# Add connectome workbench to path\n",
    "os.environ['PATH'] = os.environ['PATH'] + ':/Applications/workbench/bin_macosx64'\n",
    "\n",
    "%load_ext rpy2.ipython"
   ]
  },
  {
   "cell_type": "code",
   "execution_count": 2,
   "metadata": {},
   "outputs": [],
   "source": [
    "%%R \n",
    "\n",
    "suppressPackageStartupMessages({\n",
    "    library(broom)\n",
    "    library(circlize)\n",
    "    library(ComplexHeatmap)\n",
    "    library(cowplot)\n",
    "    library(dendextend)\n",
    "    library(FactoMineR)\n",
    "    library(GGally)\n",
    "    library(ggseg)\n",
    "    library(glue)\n",
    "    library(grid)\n",
    "    library(patchwork)\n",
    "    library(see)\n",
    "    library(tidyverse)\n",
    "})\n",
    "\n",
    "# Set cowplot theme\n",
    "theme_set(theme_cowplot())"
   ]
  },
  {
   "cell_type": "markdown",
   "metadata": {},
   "source": [
    "# Load in the data and filter to directed information (DI) with a Gaussian estimator"
   ]
  },
  {
   "cell_type": "code",
   "execution_count": 3,
   "metadata": {},
   "outputs": [],
   "source": [
    "data_path = \"/Users/abry4213/data/HCP100/\"\n",
    "\n",
    "# Load in all the pyspi homotopic res\n",
    "all_homotopic_res = pd.concat([pd.read_csv(f) for f in glob.glob(data_path + \"time_series_features/pyspi/*.csv\")])\n",
    "pearson_homotopic_res = all_homotopic_res.query(\"SPI=='cov_EmpiricalCovariance'\")\n",
    "\n",
    "# Compute the mean value for each base_region_to in di_gaussian_homotopic_res\n",
    "pearson_homotopic_res_mean = (pearson_homotopic_res\n",
    "                                  .groupby(['Subject', 'base_region_to', 'SPI'])['value'].mean().reset_index()\n",
    "                                  .groupby(\"base_region_to\")['value']\n",
    "                                  .mean()\n",
    "                                  .reset_index()\n",
    "                                  .rename(columns={\"base_region_to\": \"Base_Region\",\n",
    "                                                   \"value\": \"Mean_Pearson_R\"}))\n",
    "\n",
    "pearson_homotopic_res_for_dk = (pearson_homotopic_res\n",
    "                                  .groupby([\"base_region_to\", 'hemi_from'])['value']\n",
    "                                  .mean()\n",
    "                                  .reset_index()\n",
    "                                  .rename(columns={\"value\": \"Mean_Pearson_R\"})\n",
    "                                    )"
   ]
  },
  {
   "cell_type": "markdown",
   "metadata": {},
   "source": [
    "## Visualize the mean Pearson FC from L--R and R--L in the brain (averaged across hemispheres, first)"
   ]
  },
  {
   "cell_type": "code",
   "execution_count": 4,
   "metadata": {},
   "outputs": [],
   "source": [
    "# Define the left- and right-hemisphere Desikan-Killiany (DK) atlas\n",
    "lh_dk = \"/Users/abry4213/data/neuroimaging_atlases/surfaces/DesikanKilliany/fsaverage/lh.aparc.annot\"\n",
    "rh_dk = \"/Users/abry4213/data/neuroimaging_atlases/surfaces/DesikanKilliany/fsaverage/rh.aparc.annot\"\n",
    "\n",
    "# Read in the DK atlas\n",
    "lh_labels, lh_ctab, lh_names = fs.read_annot(lh_dk)\n",
    "rh_labels, rh_ctab, rh_names = fs.read_annot(rh_dk)\n",
    "\n",
    "# Some big endian byte-swapping is needed\n",
    "lh_labels = lh_labels.byteswap().view(lh_labels.dtype.newbyteorder('='))\n",
    "rh_labels = rh_labels.byteswap().view(rh_labels.dtype.newbyteorder('='))\n",
    "\n",
    "# Create a lookup table dataframe\n",
    "lh_names_df = pd.DataFrame({'Region': lh_names, 'Vertex_Value': range(len(lh_names))}).assign(Region = lambda x: x['Region'].str.decode('utf-8'))\n",
    "rh_names_df = pd.DataFrame({'Region': rh_names, 'Vertex_Value': range(len(rh_names))}).assign(Region = lambda x: x['Region'].str.decode('utf-8'))\n",
    "\n",
    "# Convert vertices to a DataFrame\n",
    "lh_labels_df = pd.DataFrame({'Vertex_Value': lh_labels, 'Vertex_Index': range(len(lh_labels))}).merge(lh_names_df, on='Vertex_Value', how='left')\n",
    "rh_labels_df = pd.DataFrame({'Vertex_Value': rh_labels, 'Vertex_Index': range(len(rh_labels))}).merge(rh_names_df, on='Vertex_Value', how='left')\n",
    "\n",
    "# Merge with DI Gaussian homotopic res\n",
    "lh_labels_df_with_DI = lh_labels_df.merge(pearson_homotopic_res_for_dk.query(\"hemi_from=='left'\"), left_on='Region', right_on='base_region_to', how='left')\n",
    "rh_labels_df_with_DI = rh_labels_df.merge(pearson_homotopic_res_for_dk.query(\"hemi_from=='right'\"), left_on='Region', right_on='base_region_to', how='left')"
   ]
  },
  {
   "cell_type": "code",
   "execution_count": 6,
   "metadata": {},
   "outputs": [
    {
     "name": "stdout",
     "output_type": "stream",
     "text": [
      "Joining with `by = join_by(label)`\n"
     ]
    },
    {
     "data": {
      "text/plain": [
       "merging atlas and data by 'label', 'atlas', 'type', 'hemi', 'side', 'region', 'roi'\n"
      ]
     },
     "metadata": {},
     "output_type": "display_data"
    }
   ],
   "source": [
    "%%R -i lh_labels_df_with_DI,rh_labels_df_with_DI,pearson_homotopic_res_mean\n",
    "\n",
    "library(fsbrain)\n",
    "library(viridis)\n",
    "\n",
    "# Define directories\n",
    "subjects_dir = \"~/data/fs/\"\n",
    "github_dir <- \"~/github/MEG_functional_connectivity/\"\n",
    "\n",
    "# fsaverage surface\n",
    "subject_id = 'fsaverage'\n",
    "\n",
    "### 3D SURFACE PLOTS ###\n",
    "# DI_on_brain_surf = vis.symmetric.data.on.subject(subjects_dir, vis_subject_id=subject_id, \n",
    "#                                                          morph_data_lh=lh_labels_df_with_DI$Mean_DI_Gaussian, \n",
    "#                                                          morph_data_rh=rh_labels_df_with_DI$Mean_DI_Gaussian, \n",
    "#                                                          bg='sulc_light',\n",
    "#                                                          makecmap_options = list('colFn'=viridis),\n",
    "#                                                          surface=\"inflated\", draw_colorbar = T)\n",
    "\n",
    "# # Export the vis\n",
    "# export(DI_on_brain_surf, img_only = TRUE, \n",
    "#        output_img = glue(\"../plots/Mean_LR_averaged_DI_on_surf.png\"),\n",
    "#        rglactions = list('shift_hemis_apart'=TRUE,'no_vis'=T))\n",
    "\n",
    "\n",
    "### 2D GGSEG PLOTS ###\n",
    "\n",
    "pearson_homotopic_res_mean %>%\n",
    "  ungroup() %>%\n",
    "  mutate(label = glue(\"lh_{Base_Region}\")) %>%\n",
    "  left_join(., as_tibble(dk)) %>%\n",
    "  ggseg(atlas = dk, mapping = aes(fill = Mean_Pearson_R),\n",
    "        position = \"stacked\", colour = \"black\", hemisphere=\"left\",\n",
    "        linewidth=0.5) +\n",
    "  theme_void() +\n",
    "  labs(fill = \"Mean Pearson R\") +\n",
    "  theme(plot.title = element_blank(),\n",
    "        legend.position = \"bottom\") +\n",
    "  scale_fill_viridis_c(na.value = \"white\")\n",
    "ggsave(\"../plots/Mean_LR_averaged_Pearson_R_ggseg.svg\", width = 4, height = 3)"
   ]
  },
  {
   "cell_type": "markdown",
   "metadata": {},
   "source": [
    "## Plot the overall distribution of Pearson R values in each brain region, using a raincloud plot"
   ]
  },
  {
   "cell_type": "code",
   "execution_count": 8,
   "metadata": {},
   "outputs": [
    {
     "name": "stdout",
     "output_type": "stream",
     "text": [
      "`summarise()` has grouped output by 'Subject'. You can override using the\n",
      "`.groups` argument.\n"
     ]
    },
    {
     "name": "stderr",
     "output_type": "stream",
     "text": [
      "/Users/abry4213/miniforge3/envs/annie_env/lib/python3.9/site-packages/rpy2/robjects/pandas2ri.py:56: UserWarning: DataFrame contains duplicated elements in the index, which will lead to loss of the row names in the resulting data.frame\n",
      "  warnings.warn('DataFrame contains duplicated elements in the index, '\n"
     ]
    }
   ],
   "source": [
    "%%R -i pearson_homotopic_res\n",
    "\n",
    "pearson_homotopic_res %>%\n",
    "  group_by(Subject, base_region_to) %>%\n",
    "  summarise(Mean_Pearson_R = mean(value, na.rm=T)) %>%\n",
    "  ungroup() %>%\n",
    "  group_by(base_region_to) %>%\n",
    "  mutate(mean_region_Pearson_R = mean(Mean_Pearson_R)) %>%\n",
    "  ungroup() %>%\n",
    "  mutate(base_region_to = fct_reorder(base_region_to, Mean_Pearson_R, .fun=mean)) %>%\n",
    "  ggplot(data=., mapping=aes(x=base_region_to, y=Mean_Pearson_R, fill=mean_region_Pearson_R)) +\n",
    "  geom_violinhalf(scale=\"width\", color=\"black\", position = position_dodge(width = 2), width=1)  +\n",
    "  geom_point(aes(color = mean_region_Pearson_R), position = position_jitter(width = 0.075, height=0),\n",
    "                          size = 1.75, alpha=0.6, stroke=0) +\n",
    "  stat_summary(color=\"black\", fun=\"mean\", geom=\"crossbar\", width=0.2, linewidth=0.3, \n",
    "          show.legend=FALSE, position = position_dodge(width=1.4))+\n",
    "  xlab(\"Mean DI\") +\n",
    "  ylab(\"Cortical region\") +\n",
    "  scale_y_continuous(expand=c(0,0)) +\n",
    "  scale_fill_viridis_c(na.value = \"white\") +\n",
    "  scale_color_viridis_c(na.value = \"white\") +\n",
    "  coord_flip() +\n",
    "  theme(legend.position=\"none\",\n",
    "        axis.text = element_text(size=14)) \n",
    "ggsave(\"../Plots/Subject_wise_LR_averaged_Pearson_R_violins.svg\", width=6, height=8, dpi=300, units=\"in\")"
   ]
  },
  {
   "cell_type": "markdown",
   "metadata": {},
   "source": [
    "## Is the magnitude of homotopic Pearson FC across brain regions tied to (1) Euclidean distance between the two regions and/or (2) the number of streamlines between those two regions on average?\n",
    "\n",
    "### Calculate Euclidean, geodesic, and fiber connectivity distances between each region--region pair"
   ]
  },
  {
   "cell_type": "code",
   "execution_count": 11,
   "metadata": {},
   "outputs": [
    {
     "name": "stderr",
     "output_type": "stream",
     "text": [
      "/Users/abry4213/miniforge3/envs/annie_env/lib/python3.9/site-packages/pandas/core/arraylike.py:399: RuntimeWarning: divide by zero encountered in log\n",
      "  result = getattr(ufunc, method)(*inputs, **kwargs)\n"
     ]
    }
   ],
   "source": [
    "# Read in brain region lookup table\n",
    "brain_region_info = pd.read_csv(\"../Brain_Region_Info.csv\")\n",
    "fsaverage_data_base_path = \"/Users/abry4213/data/neuroimaging_atlases/surfaces/DesikanKilliany/fsaverage\"\n",
    "\n",
    "all_centroid_res_list = []\n",
    "for hemi in [\"lh\", \"rh\"]:\n",
    "\n",
    "    # Load annotation file (parcellation)\n",
    "    annot_path = f\"{fsaverage_data_base_path}/{hemi}.aparc.annot\"\n",
    "    labels, ctab, names = fs.read_annot(annot_path)\n",
    "\n",
    "    # Load label file (vertex coordinates)\n",
    "    label_path = f\"{fsaverage_data_base_path}/{hemi}.aparc.label\"\n",
    "    vertices = fs.read_label(label_path)\n",
    "\n",
    "    # Load the FreeSurfer surface (to get vertex coordinates)\n",
    "    pial_path = f\"{fsaverage_data_base_path}/{hemi}.pial\"\n",
    "    surf = fs.read_geometry(pial_path)\n",
    "    coords, faces = surf\n",
    "    cort = np.sort(fs.read_label(f\"{fsaverage_data_base_path}/{hemi}.cortex.label\"))\n",
    "\n",
    "    # Create a dictionary to store centroids\n",
    "    roi_centroids = {}\n",
    "\n",
    "    # Compute centroids for each ROI\n",
    "    for i, roi_name in enumerate(names):\n",
    "        roi_vertices = np.where(labels == i)[0]  # Get vertex indices in this ROI\n",
    "        if len(roi_vertices) > 0:\n",
    "            roi_centroids[roi_name] = coords[roi_vertices].mean(axis=0)  # Mean position\n",
    "\n",
    "    # Convert centroids to DataFrame\n",
    "    centroid_df = pd.DataFrame(roi_centroids).T\n",
    "    centroid_df.columns = [\"x\", \"y\", \"z\"]\n",
    "\n",
    "    # Convert names to strings, dropping corpuscallosum\n",
    "    names_dec = [name.decode() for name in names if name.decode() not in [\"corpuscallosum\"]]\n",
    "\n",
    "    # If centroid_df has 34 rows, drop 'unknown' from names\n",
    "    if centroid_df.shape[0] == 34:\n",
    "        names_dec = [name for name in names_dec if name != \"unknown\"]\n",
    "\n",
    "    # Add region names and hemisphere\n",
    "    centroid_df = (centroid_df.reset_index(drop=True).assign(Base_Region=names_dec, \n",
    "                                                             Hemisphere=np.where(hemi == \"lh\", \"Left\", \"Right\"))\n",
    "                                                     .assign(Brain_Region = lambda x: hemi + '-' + x['Base_Region']))\n",
    "\n",
    "    # Append to list\n",
    "    all_centroid_res_list.append(centroid_df)\n",
    "\n",
    "# Concatenate the results\n",
    "all_centroid_res = pd.concat(all_centroid_res_list).query(\"Base_Region != 'unknown'\")\n",
    "\n",
    "# Compute Euclidean distances between all ROI centroids\n",
    "dist_matrix = cdist(all_centroid_res[['x', 'y', 'z']], all_centroid_res[['x', 'y', 'z']], metric=\"euclidean\")\n",
    "\n",
    "# Convert to DataFrame\n",
    "euclidean_dist_df = (pd.DataFrame(dist_matrix, index=all_centroid_res['Brain_Region'], \n",
    "                        columns=all_centroid_res['Brain_Region'])\n",
    "                        .reset_index()\n",
    "                        .rename(columns={\"Brain_Region\": \"Brain_Region_From\"})\n",
    "                        .melt(id_vars='Brain_Region_From', var_name='Brain_Region_To', value_name='Euclidean_Distance')\n",
    "                        .query(\"Brain_Region_From != Brain_Region_To\")\n",
    "                        .assign(Base_Region_From = lambda x: x['Brain_Region_From'].str.split('-').str[1],\n",
    "                                Base_Region_To = lambda x: x['Brain_Region_To'].str.split('-').str[1],\n",
    "                                Hemi_From = lambda x: np.where(x['Brain_Region_From'].str.split('-').str[0]=='lh', 'Left', 'Right'),\n",
    "                                Hemi_To = lambda x: np.where(x['Brain_Region_To'].str.split('-').str[0]=='lh', 'Left', 'Right'))\n",
    "                        )\n",
    "\n",
    "# Filter to just the homotopic regions\n",
    "homotopic_euclidean_dist_df = (euclidean_dist_df.query(\"Base_Region_From == Base_Region_To\").drop_duplicates(subset=['Base_Region_To', 'Euclidean_Distance'])\n",
    "                               .filter(['Base_Region_To', 'Euclidean_Distance'])\n",
    "                               .rename(columns={\"Base_Region_To\": \"Base_Region\",\n",
    "                                                \"Euclidean_Distance\": \"Value\"})\n",
    "                               .assign(Category = \"Microstructure\", Description = \"Euclidean Distance\")\n",
    "                               )\n",
    "\n",
    "# Load in the group-averaged connectome data\n",
    "homotopic_SC_dist_df = (pd.read_csv(f\"{data_path}/raw_data/diffusion_MRI/aparc_HCP100_group_avg_SIFT2_consistency_75.csv\",\n",
    "                               header=None, \n",
    "                               names=brain_region_info.Brain_Region)\n",
    "                               .assign(Brain_Region_From=brain_region_info.Brain_Region)\n",
    "                               .melt(id_vars=\"Brain_Region_From\", var_name=\"Brain_Region_To\", value_name=\"SC\")\n",
    "                               .assign(log_SC = lambda x: np.where(x['SC'] > 0, np.log(x['SC']), 0))\n",
    "                               .query(\"Brain_Region_From != Brain_Region_To\")\n",
    "                               .assign(Base_Region_From = lambda x: x.Brain_Region_From.str.replace('ctx-lh-', ''),\n",
    "                                       Base_Region_To = lambda x: x.Brain_Region_To.str.replace('ctx-lh-', ''),\n",
    "                                       Hemi_From = lambda x: np.where(x.Brain_Region_From.str.contains('lh'), 'Left', 'Right'),\n",
    "                                       Hemi_To = lambda x: np.where(x.Brain_Region_To.str.contains('lh'), 'Left', 'Right'))\n",
    "                                .assign(Base_Region_From = lambda x: x.Base_Region_From.str.replace('ctx-rh-', ''),\n",
    "                                        Base_Region_To = lambda x: x.Base_Region_To.str.replace('ctx-rh-', ''))\n",
    "                               .query(\"Base_Region_From == Base_Region_To\")\n",
    "                               .rename(columns={\"Base_Region_From\": \"Base_Region\"})\n",
    "                               .drop_duplicates(subset=['Base_Region', 'SC', 'log_SC'])\n",
    "                               .filter(['Base_Region', 'log_SC'])\n",
    "                               .rename(columns={\"log_SC\": \"Value\"})\n",
    "                               .assign(Category = \"Microstructure\", Description = \"Log-SC\")\n",
    ")\n",
    "\n",
    "# Merge the results\n",
    "structural_data = pd.concat([homotopic_euclidean_dist_df, homotopic_SC_dist_df]).merge(pearson_homotopic_res_mean, on=\"Base_Region\", how=\"left\")"
   ]
  },
  {
   "cell_type": "code",
   "execution_count": 42,
   "metadata": {},
   "outputs": [
    {
     "name": "stdout",
     "output_type": "stream",
     "text": [
      "`geom_smooth()` using formula = 'y ~ x'\n"
     ]
    },
    {
     "name": "stderr",
     "output_type": "stream",
     "text": [
      "R[write to console]: In addition: \n",
      "R[write to console]: Warning messages:\n",
      "\n",
      "R[write to console]: 1: The following aesthetics were dropped during statistical transformation: fill.\n",
      "ℹ This can happen when ggplot fails to infer the correct grouping structure in\n",
      "  the data.\n",
      "ℹ Did you forget to specify a `group` aesthetic or to convert a numerical\n",
      "  variable into a factor? \n",
      "\n",
      "R[write to console]: 2: The following aesthetics were dropped during statistical transformation: fill.\n",
      "ℹ This can happen when ggplot fails to infer the correct grouping structure in\n",
      "  the data.\n",
      "ℹ Did you forget to specify a `group` aesthetic or to convert a numerical\n",
      "  variable into a factor? \n",
      "\n",
      "R[write to console]: 3: The following aesthetics were dropped during statistical transformation: fill.\n",
      "ℹ This can happen when ggplot fails to infer the correct grouping structure in\n",
      "  the data.\n",
      "ℹ Did you forget to specify a `group` aesthetic or to convert a numerical\n",
      "  variable into a factor? \n",
      "\n",
      "R[write to console]: 4: The following aesthetics were dropped during statistical transformation: fill.\n",
      "ℹ This can happen when ggplot fails to infer the correct grouping structure in\n",
      "  the data.\n",
      "ℹ Did you forget to specify a `group` aesthetic or to convert a numerical\n",
      "  variable into a factor? \n",
      "\n"
     ]
    },
    {
     "data": {
      "image/png": "[encoded data removed]",
      "text/plain": [
       "<IPython.core.display.Image object>"
      ]
     },
     "metadata": {},
     "output_type": "display_data"
    }
   ],
   "source": [
    "%%R -i structural_data\n",
    "\n",
    "structural_data %>% \n",
    "    filter(Description %in% c(\"Euclidean Distance\", \"Log-SC\")) %>%\n",
    "    ggplot(aes(x=Value, y=Mean_Pearson_R, fill=Mean_Pearson_R)) +\n",
    "    geom_point(color='black', shape=21, size=3) +\n",
    "    scale_fill_viridis_c() +\n",
    "    geom_smooth(method=\"lm\", se=FALSE, color='black') +\n",
    "    facet_wrap(. ~ Description, scales=\"free\", ncol=1) +\n",
    "    theme(legend.position=\"none\") +\n",
    "    ggpubr::stat_cor(method=\"spearman\", cor.coef.name=\"rho\", size=5, aes(label = ..r.label..)) +\n",
    "    xlab(\"Value\") +\n",
    "    ylab(\"Mean Pearson R\") +\n",
    "    theme(strip.background = element_blank(),\n",
    "          strip.text = element_text(face='bold', size=14))\n",
    "\n",
    "# ggsave(\"../Plots/Mean_Pearson_R_magnitude_vs_physical_distance.svg\", width=2.7, height=5, dpi=300, units=\"in\")"
   ]
  },
  {
   "cell_type": "code",
   "execution_count": 43,
   "metadata": {},
   "outputs": [
    {
     "name": "stdout",
     "output_type": "stream",
     "text": [
      "Joining with `by = join_by(label)`\n",
      "Joining with `by = join_by(label)`\n"
     ]
    },
    {
     "data": {
      "text/plain": [
       "merging atlas and data by 'label', 'atlas', 'type', 'hemi', 'side', 'region', 'roi'\n",
       "merging atlas and data by 'label', 'atlas', 'type', 'hemi', 'side', 'region', 'roi'\n"
      ]
     },
     "metadata": {},
     "output_type": "display_data"
    }
   ],
   "source": [
    "%%R -i structural_data\n",
    "\n",
    "all_ggseg_plots_list <- list()\n",
    "\n",
    "for (desc in unique(structural_data$Description)) {\n",
    "      desc_p <- structural_data %>%\n",
    "            filter(Description==desc) %>% \n",
    "            mutate(label = glue(\"lh_{Base_Region}\")) %>%\n",
    "            left_join(., as_tibble(dk)) %>%\n",
    "            ggseg(atlas = dk, mapping = aes(fill = Value),\n",
    "                  position = \"stacked\", colour = \"black\", hemisphere=\"left\",\n",
    "                  linewidth=0.5) +\n",
    "            theme_void() +\n",
    "            labs(fill = desc) +\n",
    "            theme(plot.title = element_blank(),\n",
    "                  legend.position = \"bottom\") +\n",
    "            scale_fill_viridis_c(na.value = \"white\")\n",
    "\n",
    "      all_ggseg_plots_list[[desc]] <- desc_p\n",
    "}\n",
    "\n",
    "wrap_plots(all_ggseg_plots_list, ncol=1)\n",
    "ggsave(\"../Plots/Pearson_vs_structure_ggseg_res.svg\", width=4, height=4, dpi=300, units=\"in\")\n"
   ]
  },
  {
   "cell_type": "markdown",
   "metadata": {},
   "source": [
    "## Other functional/structural annotations to consider"
   ]
  },
  {
   "cell_type": "code",
   "execution_count": 13,
   "metadata": {},
   "outputs": [
    {
     "name": "stdout",
     "output_type": "stream",
     "text": [
      "Fetching hcps1200 myelinmap fsLR 32k\n",
      "\n",
      "[References] Please cite the following papers if you are using this data:\n",
      "\n",
      "  For {'source': 'hcps1200', 'desc': 'myelinmap', 'space': 'fsLR', 'den': '32k'}:\n",
      "  [primary]:\n",
      "    Matthew F Glasser, Timothy S Coalson, Emma C Robinson, Carl D Hacker, John Harwell, Essa Yacoub, Kamil Ugurbil, Jesper Andersson, Christian F Beckmann, Mark Jenkinson, and others. A multi-modal parcellation of human cerebral cortex. Nature, 536(7615):171–178, 2016.\n",
      "  [secondary]:\n",
      "    \n",
      "Fetching abagen genepc1 fsaverage 10k\n",
      "\n",
      "[References] Please cite the following papers if you are using this data:\n",
      "\n",
      "  For {'source': 'abagen', 'desc': 'genepc1', 'space': 'fsaverage', 'den': '10k'}:\n",
      "  [primary]:\n",
      "    Michael J Hawrylycz, Ed S Lein, Angela L Guillozet-Bongaarts, Elaine H Shen, Lydia Ng, Jeremy A Miller, Louie N Van De Lagemaat, Kimberly A Smith, Amanda Ebbert, Zackery L Riley, and others. An anatomically comprehensive atlas of the adult human brain transcriptome. Nature, 489(7416):391, 2012.\n",
      "    Ross D Markello, Aurina Arnatkeviciute, Jean-Baptiste Poline, Ben D Fulcher, Alex Fornito, and Bratislav Misic. Standardizing workflows in imaging transcriptomics with the abagen toolbox. eLife, 10:e72129, 2021.\n",
      "  [secondary]:\n",
      "    \n",
      "Fetching margulies2016 fcgradient01 fsLR 32k\n",
      "\n",
      "[References] Please cite the following papers if you are using this data:\n",
      "\n",
      "  For {'source': 'margulies2016', 'desc': 'fcgradient01', 'space': 'fsLR', 'den': '32k'}:\n",
      "  [primary]:\n",
      "    Daniel S Margulies, Satrajit S Ghosh, Alexandros Goulas, Marcel Falkiewicz, Julia M Huntenburg, Georg Langs, Gleb Bezgin, Simon B Eickhoff, F Xavier Castellanos, Michael Petrides, and others. Situating the default-mode network along a principal gradient of macroscale cortical organization. Proc Natl Acad Sci USA, 113(44):12574–12579, 2016.\n",
      "  [secondary]:\n",
      "    \n"
     ]
    }
   ],
   "source": [
    "# Read in brain region lookup table\n",
    "brain_region_info = pd.read_csv(\"../Brain_Region_Info.csv\")\n",
    "\n",
    "# Define the left- and right-hemisphere Desikan-Killiany (DK) atlas\n",
    "lh_dk = \"/Users/abry4213/data/neuroimaging_atlases/surfaces/DesikanKilliany/fsaverage/lh.aparc.annot\"\n",
    "rh_dk = \"/Users/abry4213/data/neuroimaging_atlases/surfaces/DesikanKilliany/fsaverage/rh.aparc.annot\"\n",
    "\n",
    "if not os.path.exists(\"hierarchy_dk_neuromaps_res.csv\"):\n",
    "    nm_atlas_df = pd.read_csv('hierarchy_neuromaps_atlases.csv')\n",
    "\n",
    "    # Convert the DK atlas to gifti format\n",
    "    dk_gifti = neuromaps.images.annot_to_gifti((lh_dk, rh_dk), background=None)\n",
    "    dk_gifti = neuromaps.images.relabel_gifti(dk_gifti)\n",
    "\n",
    "    # Fit a Parcellator object\n",
    "    parc = Parcellater(dk_gifti, 'fsaverage', resampling_target='parcellation')\n",
    "\n",
    "    # Loop through each atlas, extract the values in Desikan-Killiany space, and create a dataframe\n",
    "    all_dk_neuromaps_res_list = []\n",
    "    for i, row in nm_atlas_df.iterrows():\n",
    "        this_row_category = row['Category']\n",
    "        this_row_desc = row['Description']\n",
    "        source, desc, space, den = row['Filename'].split('-')\n",
    "\n",
    "        try:\n",
    "            print(f\"Fetching {source} {desc} {space} {den}\")\n",
    "            this_atlas_data = fetch_annotation(source=source, desc=desc, space=space, \n",
    "                                                den=den, data_dir=Path(\"/Users/abry4213/neuromaps-data\"))\n",
    "            \n",
    "            # Extract this atlas' values in Desikan-Killiany space\n",
    "            parc_iter = deepcopy(parc)\n",
    "            this_atlas_data_in_dk = parc_iter.fit_transform(this_atlas_data, space)\n",
    "\n",
    "            # Create a dataframe\n",
    "            this_atlas_data_in_dk_df = pd.DataFrame({'Category': this_row_category,\n",
    "                                                        'Description': this_row_desc,\n",
    "                                                        'Region_Index': range(len(this_atlas_data_in_dk)),\n",
    "                                                        'Value': this_atlas_data_in_dk}).merge(brain_region_info, on=\"Region_Index\")\n",
    "            \n",
    "            # Append to the list\n",
    "            all_dk_neuromaps_res_list.append(this_atlas_data_in_dk_df)\n",
    "        \n",
    "        except Exception as e:\n",
    "            print(f\"Error parcellating {source} {desc} {space} {den}: {e}\")\n",
    "            continue\n",
    "\n",
    "    # Concatenate all the dataframes\n",
    "    hierarchy_dk_neuromaps_res = pd.concat(all_dk_neuromaps_res_list)\n",
    "\n",
    "    # Save the results\n",
    "    hierarchy_dk_neuromaps_res.to_csv(\"hierarchy_dk_neuromaps_res.csv\", index=False)\n",
    "\n",
    "else:\n",
    "    hierarchy_dk_neuromaps_res = pd.read_csv(\"hierarchy_dk_neuromaps_res.csv\")\n",
    "\n",
    "hierarchy_dk_neuromaps_res_hemi_avg = hierarchy_dk_neuromaps_res.groupby(['Category', 'Description', 'Base_Region'])['Value'].mean().reset_index()"
   ]
  },
  {
   "cell_type": "code",
   "execution_count": 15,
   "metadata": {},
   "outputs": [
    {
     "name": "stderr",
     "output_type": "stream",
     "text": [
      "/var/folders/rn/z0683sns3tz7b_k0cbf8ft8w0000gq/T/ipykernel_94143/2715129141.py:2: DeprecationWarning: DataFrameGroupBy.apply operated on the grouping columns. This behavior is deprecated, and in a future version of pandas the grouping columns will be excluded from the operation. Either pass `include_groups=False` to exclude the groupings or explicitly select the grouping columns after groupby to silence this warning.\n",
      "  spearman_corrs_pearson = (hierarchy_dk_neuromaps_res_hemi_avg\n"
     ]
    }
   ],
   "source": [
    "# Group by 'Category' and 'Description' and compute the Spearman correlation\n",
    "spearman_corrs_pearson = (hierarchy_dk_neuromaps_res_hemi_avg\n",
    "                              .merge(pearson_homotopic_res_mean, on='Base_Region', how='left')\n",
    "                              .groupby(['Category', 'Description'])\n",
    "                              .apply(lambda x: spearmanr(x['Value'], x['Mean_Pearson_R'])).apply(pd.Series)\n",
    "                              .reset_index()\n",
    "                              .assign(SPI = 'di_gaussian'))\n",
    "\n",
    "# Rename the columns for clarity\n",
    "spearman_corrs_pearson.columns = ['Category', 'Description', 'Spearman_Correlation', 'p_value', 'SPI']\n",
    "\n",
    "# Display the results\n",
    "spearman_corrs_pearson['p_val_BH'] = statsmodels.stats.multitest.multipletests(spearman_corrs_pearson.p_value, method=\"fdr_bh\")[1]\n",
    "\n",
    "# Filter to significant results\n",
    "spearman_corrs_pearson_sig = spearman_corrs_pearson.query(\"p_val_BH < 0.05 & abs(Spearman_Correlation) > 0.5\")\n",
    "\n",
    "# Filter neuromaps data to the significant results\n",
    "hierarchy_dk_neuromaps_res_hemi_avg_sig = hierarchy_dk_neuromaps_res_hemi_avg.merge(spearman_corrs_pearson_sig, on=['Category', 'Description'], how='inner')\n"
   ]
  },
  {
   "cell_type": "code",
   "execution_count": 18,
   "metadata": {},
   "outputs": [
    {
     "name": "stdout",
     "output_type": "stream",
     "text": [
      "Joining with `by = join_by(label)`\n",
      "Joining with `by = join_by(label)`\n",
      "Joining with `by = join_by(label)`\n"
     ]
    },
    {
     "data": {
      "text/plain": [
       "merging atlas and data by 'label', 'atlas', 'type', 'hemi', 'side', 'region', 'roi'\n",
       "merging atlas and data by 'label', 'atlas', 'type', 'hemi', 'side', 'region', 'roi'\n",
       "merging atlas and data by 'label', 'atlas', 'type', 'hemi', 'side', 'region', 'roi'\n"
      ]
     },
     "metadata": {},
     "output_type": "display_data"
    }
   ],
   "source": [
    "%%R -i hierarchy_dk_neuromaps_res_hemi_avg_sig\n",
    "\n",
    "all_ggseg_plots_list <- list()\n",
    "\n",
    "for (desc in unique(hierarchy_dk_neuromaps_res_hemi_avg_sig$Description)) {\n",
    "      desc_p <- hierarchy_dk_neuromaps_res_hemi_avg_sig %>%\n",
    "            filter(Description==desc) %>% \n",
    "            mutate(label = glue(\"lh_{Base_Region}\")) %>%\n",
    "            left_join(., as_tibble(dk)) %>%\n",
    "            ggseg(atlas = dk, mapping = aes(fill = Value),\n",
    "                  position = \"stacked\", colour = \"black\", hemisphere=\"left\",\n",
    "                  linewidth=0.5) +\n",
    "            theme_void() +\n",
    "            labs(fill = desc) +\n",
    "            theme(plot.title = element_blank(),\n",
    "                  legend.position = \"bottom\") +\n",
    "            scale_fill_viridis_c(na.value = \"white\")\n",
    "\n",
    "      all_ggseg_plots_list[[desc]] <- desc_p\n",
    "}\n",
    "\n",
    "wrap_plots(all_ggseg_plots_list, ncol=1)\n",
    "ggsave(\"../Plots/Pearson_vs_hierarchy_ggseg_res.svg\", width=4, height=6, dpi=300, units=\"in\")\n"
   ]
  },
  {
   "cell_type": "code",
   "execution_count": 19,
   "metadata": {},
   "outputs": [],
   "source": [
    "hierarchy_neuromaps_vs_pearson_hemi_avg_sig = (hierarchy_dk_neuromaps_res_hemi_avg_sig\n",
    "                                        .merge(pearson_homotopic_res_mean, on='Base_Region', how='left'))"
   ]
  },
  {
   "cell_type": "code",
   "execution_count": 41,
   "metadata": {},
   "outputs": [
    {
     "data": {
      "text/plain": [
       "In addition: Warning messages:\n",
       "1: The following aesthetics were dropped during statistical transformation: fill.\n",
       "ℹ This can happen when ggplot fails to infer the correct grouping structure in\n",
       "  the data.\n",
       "ℹ Did you forget to specify a `group` aesthetic or to convert a numerical\n",
       "  variable into a factor? \n",
       "2: The following aesthetics were dropped during statistical transformation: fill.\n",
       "ℹ This can happen when ggplot fails to infer the correct grouping structure in\n",
       "  the data.\n",
       "ℹ Did you forget to specify a `group` aesthetic or to convert a numerical\n",
       "  variable into a factor? \n",
       "3: The following aesthetics were dropped during statistical transformation: fill.\n",
       "ℹ This can happen when ggplot fails to infer the correct grouping structure in\n",
       "  the data.\n",
       "ℹ Did you forget to specify a `group` aesthetic or to convert a numerical\n",
       "  variable into a factor? \n"
      ]
     },
     "metadata": {},
     "output_type": "display_data"
    }
   ],
   "source": [
    "%%R -i hierarchy_neuromaps_vs_pearson_hemi_avg_sig\n",
    "\n",
    "hierarchy_neuromaps_vs_pearson_hemi_avg_sig %>% \n",
    "    ggplot(data=., mapping=aes(x=Value, y=Mean_Pearson_R, fill=Mean_Pearson_R)) +\n",
    "    geom_point(shape=21, color='black', size=3, alpha=0.8) +\n",
    "    # Facet wrap but repeat axis titles for each facet\n",
    "    facet_wrap(Description ~ ., scales=\"free\", ncol=1, axis.labels = 'all') +\n",
    "    ggpubr::stat_cor(method=\"spearman\", cor.coef.name=\"rho\", size=5, aes(label = ..r.label..)) +\n",
    "    theme(legend.position='none') +\n",
    "    scale_fill_viridis_c() +\n",
    "    theme(strip.background = element_blank())\n",
    "# ggsave(\"../Plots/Hierarchy_maps_with_pearson_correlations_scatters.svg\", width=2.25, height=6, dpi=300, units=\"in\")"
   ]
  },
  {
   "cell_type": "code",
   "execution_count": 13,
   "metadata": {},
   "outputs": [
    {
     "name": "stderr",
     "output_type": "stream",
     "text": [
      "/Users/abry4213/miniforge3/envs/annie_env/lib/python3.9/site-packages/numpy/_core/fromnumeric.py:3596: RuntimeWarning: Mean of empty slice.\n",
      "  return _methods._mean(a, axis=axis, dtype=dtype,\n",
      "/Users/abry4213/miniforge3/envs/annie_env/lib/python3.9/site-packages/numpy/_core/_methods.py:138: RuntimeWarning: invalid value encountered in scalar divide\n",
      "  ret = ret.dtype.type(ret / rcount)\n"
     ]
    }
   ],
   "source": [
    "# ####################################\n",
    "# # cortical layer data from BigBrainWarp\n",
    "# ####################################\n",
    "# # cortical layers\n",
    "# bigbrainwarppath = '/Users/abry4213/data/BigBrain/spaces/'\n",
    "# dk_fsaverage_lh = fs.io.read_annot(lh_dk)\n",
    "# dk_fsaverage_rh = fs.io.read_annot(rh_dk)\n",
    "\n",
    "# parcellatedData_all = np.zeros((6, 68))\n",
    "# for i in range(6):\n",
    "#     lh_file = (bigbrainwarppath + 'tpl-fsaverage/' +\n",
    "#             'tpl-fsaverage_hemi-L_den-164k_desc-layer%s_thickness.label.gii' % str(i+1))\n",
    "#     rh_file = (bigbrainwarppath + 'tpl-fsaverage/' +\n",
    "#             'tpl-fsaverage_hemi-R_den-164k_desc-layer%s_thickness.label.gii' % str(i+1))\n",
    "\n",
    "#     data_lh = nib.load(lh_file).darrays[0].data\n",
    "#     data_rh = nib.load(rh_file).darrays[0].data\n",
    "\n",
    "#     parcelIDs_lh = np.unique(dk_fsaverage_lh[0])\n",
    "#     parcelIDs_lh = np.delete(parcelIDs_lh, 0)\n",
    "#     parcelIDs_lh = [i-1 for i in parcelIDs_lh if i != 0]\n",
    "\n",
    "#     parcellatedData_lh = np.zeros((1, len(parcelIDs_lh)))\n",
    "\n",
    "#     for IDnum in parcelIDs_lh:\n",
    "#         idx = np.where(dk_fsaverage_lh[0] == IDnum)[0]\n",
    "#         parcellatedData_lh[:, IDnum-1] = np.nanmean(data_lh[idx])\n",
    "\n",
    "\n",
    "#     parcelIDs_rh = np.unique(dk_fsaverage_rh[0])\n",
    "#     parcelIDs_rh = np.delete(parcelIDs_rh, 0)\n",
    "#     parcelIDs_rh = [i-1 for i in parcelIDs_rh if i != 0]\n",
    "\n",
    "\n",
    "#     parcellatedData_rh = np.zeros((1, len(parcelIDs_rh)))\n",
    "\n",
    "#     for IDnum in parcelIDs_rh:\n",
    "#         idx = np.where(dk_fsaverage_rh[0] == IDnum)[0]\n",
    "#         parcellatedData_rh[:, IDnum-1] = np.nanmean(data_rh[idx])\n",
    "\n",
    "#     parcellatedData = np.hstack((parcellatedData_lh, parcellatedData_rh))\n",
    "\n",
    "#     parcellatedData_all[i, :] = parcellatedData\n",
    "\n",
    "# layer_data = parcellatedData_all.T"
   ]
  }
 ],
 "metadata": {
  "kernelspec": {
   "display_name": "annie_env",
   "language": "python",
   "name": "python3"
  },
  "language_info": {
   "codemirror_mode": {
    "name": "ipython",
    "version": 3
   },
   "file_extension": ".py",
   "mimetype": "text/x-python",
   "name": "python",
   "nbconvert_exporter": "python",
   "pygments_lexer": "ipython3",
   "version": "3.9.21"
  }
 },
 "nbformat": 4,
 "nbformat_minor": 2
}
