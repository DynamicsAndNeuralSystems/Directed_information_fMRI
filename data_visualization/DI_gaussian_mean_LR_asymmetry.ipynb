{
 "cells": [
  {
   "cell_type": "code",
   "execution_count": 1,
   "metadata": {},
   "outputs": [],
   "source": [
    "import pandas as pd\n",
    "from pyspi.calculator import Calculator\n",
    "import numpy as np\n",
    "from copy import deepcopy\n",
    "import glob\n",
    "import os\n",
    "import random\n",
    "import neuromaps\n",
    "from neuromaps.parcellate import Parcellater\n",
    "from nibabel import freesurfer as fs\n",
    "import nibabel as nib\n",
    "from neuromaps.datasets import fetch_annotation\n",
    "from pathlib import Path\n",
    "from scipy.spatial.distance import cdist\n",
    "from scipy.stats import spearmanr\n",
    "import statsmodels.stats.multitest\n",
    "from surfplot import Plot\n",
    "from surfplot.datasets import load_example_data\n",
    "from neuromaps.datasets import fetch_fslr\n",
    "\n",
    "# Set seed to 127\n",
    "random.seed(127)\n",
    "\n",
    "# Add connectome workbench to path\n",
    "os.environ['PATH'] = os.environ['PATH'] + ':/Applications/workbench/bin_macosx64'\n",
    "\n",
    "%load_ext rpy2.ipython"
   ]
  },
  {
   "cell_type": "code",
   "execution_count": 2,
   "metadata": {},
   "outputs": [],
   "source": [
    "%%R \n",
    "\n",
    "suppressPackageStartupMessages({\n",
    "    library(broom)\n",
    "    library(circlize)\n",
    "    library(ComplexHeatmap)\n",
    "    library(cowplot)\n",
    "    library(dendextend)\n",
    "    library(FactoMineR)\n",
    "    library(GGally)\n",
    "    library(ggseg)\n",
    "    library(glue)\n",
    "    library(grid)\n",
    "    library(patchwork)\n",
    "    library(see)\n",
    "    library(tidyverse)\n",
    "})\n",
    "\n",
    "# Set cowplot theme\n",
    "theme_set(theme_cowplot())"
   ]
  },
  {
   "cell_type": "markdown",
   "metadata": {},
   "source": [
    "# Load in the data and filter to directed information (DI) with a Gaussian estimator"
   ]
  },
  {
   "cell_type": "code",
   "execution_count": 3,
   "metadata": {},
   "outputs": [],
   "source": [
    "data_path = \"/Users/abry4213/data/HCP100/\"\n",
    "\n",
    "# Load in all the pyspi homotopic res\n",
    "all_homotopic_res = pd.concat([pd.read_csv(f) for f in glob.glob(data_path + \"time_series_features/pyspi/*.csv\")])\n",
    "di_gaussian_homotopic_res = all_homotopic_res.query(\"SPI=='di_gaussian'\")\n",
    "\n",
    "# Compute the mean value for each base_region_to in di_gaussian_homotopic_res\n",
    "di_gaussian_homotopic_res_mean = (di_gaussian_homotopic_res\n",
    "                                  .groupby(['Subject', 'base_region_to', 'SPI'])['value'].mean().reset_index()\n",
    "                                  .groupby(\"base_region_to\")['value']\n",
    "                                  .mean()\n",
    "                                  .reset_index()\n",
    "                                  .rename(columns={\"base_region_to\": \"Base_Region\",\n",
    "                                                   \"value\": \"Mean_DI_Gaussian\"}))\n",
    "\n",
    "di_gaussian_homotopic_res_for_dk = (di_gaussian_homotopic_res\n",
    "                                  .groupby([\"base_region_to\", 'hemi_from'])['value']\n",
    "                                  .mean()\n",
    "                                  .reset_index()\n",
    "                                  .rename(columns={\"value\": \"Mean_DI_Gaussian\"})\n",
    "                                    )"
   ]
  },
  {
   "cell_type": "markdown",
   "metadata": {},
   "source": [
    "## Visualize the mean DI from L--R and R--L in the brain (averaged across hemispheres, first)"
   ]
  },
  {
   "cell_type": "code",
   "execution_count": 4,
   "metadata": {},
   "outputs": [],
   "source": [
    "# Define the left- and right-hemisphere Desikan-Killiany (DK) atlas\n",
    "lh_dk = \"/Users/abry4213/data/neuroimaging_atlases/surfaces/DesikanKilliany/fsaverage/lh.aparc.annot\"\n",
    "rh_dk = \"/Users/abry4213/data/neuroimaging_atlases/surfaces/DesikanKilliany/fsaverage/rh.aparc.annot\"\n",
    "\n",
    "# Read in the DK atlas\n",
    "lh_labels, lh_ctab, lh_names = fs.read_annot(lh_dk)\n",
    "rh_labels, rh_ctab, rh_names = fs.read_annot(rh_dk)\n",
    "\n",
    "# Some big endian byte-swapping is needed\n",
    "lh_labels = lh_labels.byteswap().view(lh_labels.dtype.newbyteorder('='))\n",
    "rh_labels = rh_labels.byteswap().view(rh_labels.dtype.newbyteorder('='))\n",
    "\n",
    "# Create a lookup table dataframe\n",
    "lh_names_df = pd.DataFrame({'Region': lh_names, 'Vertex_Value': range(len(lh_names))}).assign(Region = lambda x: x['Region'].str.decode('utf-8'))\n",
    "rh_names_df = pd.DataFrame({'Region': rh_names, 'Vertex_Value': range(len(rh_names))}).assign(Region = lambda x: x['Region'].str.decode('utf-8'))\n",
    "\n",
    "# Convert vertices to a DataFrame\n",
    "lh_labels_df = pd.DataFrame({'Vertex_Value': lh_labels, 'Vertex_Index': range(len(lh_labels))}).merge(lh_names_df, on='Vertex_Value', how='left')\n",
    "rh_labels_df = pd.DataFrame({'Vertex_Value': rh_labels, 'Vertex_Index': range(len(rh_labels))}).merge(rh_names_df, on='Vertex_Value', how='left')\n",
    "\n",
    "# Merge with DI Gaussian homotopic res\n",
    "lh_labels_df_with_DI = lh_labels_df.merge(di_gaussian_homotopic_res_for_dk.query(\"hemi_from=='left'\"), left_on='Region', right_on='base_region_to', how='left')\n",
    "rh_labels_df_with_DI = rh_labels_df.merge(di_gaussian_homotopic_res_for_dk.query(\"hemi_from=='right'\"), left_on='Region', right_on='base_region_to', how='left')"
   ]
  },
  {
   "cell_type": "markdown",
   "metadata": {},
   "source": [
    "## What is the left-right asymmetry in Gaussian-DI values?"
   ]
  },
  {
   "cell_type": "code",
   "execution_count": 5,
   "metadata": {},
   "outputs": [
    {
     "name": "stdout",
     "output_type": "stream",
     "text": [
      "`summarise()` has grouped output by 'Subject'. You can override using the\n",
      "`.groups` argument.\n"
     ]
    },
    {
     "name": "stderr",
     "output_type": "stream",
     "text": [
      "/Users/abry4213/miniforge3/envs/annie_env/lib/python3.9/site-packages/rpy2/robjects/pandas2ri.py:56: UserWarning: DataFrame contains duplicated elements in the index, which will lead to loss of the row names in the resulting data.frame\n",
      "  warnings.warn('DataFrame contains duplicated elements in the index, '\n"
     ]
    }
   ],
   "source": [
    "%%R -i di_gaussian_homotopic_res -o region_DI_subtract_diffs\n",
    "\n",
    "# What is the difference in DI by brain region?\n",
    "region_DI_subtract_diffs <- di_gaussian_homotopic_res %>%\n",
    "  group_by(Subject, base_region_to) %>%\n",
    "  summarise(DI_LR = value[hemi_from==\"left\"],\n",
    "            DI_RL = value[hemi_from==\"right\"]) %>%\n",
    "  rowwise() %>%\n",
    "  mutate(RL_minus_LR = DI_RL - DI_LR) %>%\n",
    "  ungroup() %>%\n",
    "  group_by(base_region_to) %>%\n",
    "  mutate(mean_RL_minus_LR = mean(RL_minus_LR),\n",
    "         sd_RL_minus_LR = sd(RL_minus_LR)) %>%\n",
    "  ungroup() %>%\n",
    "  mutate(base_region_to = fct_reorder(base_region_to, mean_RL_minus_LR, .fun=median))\n",
    "\n",
    "region_DI_subtract_diffs %>%\n",
    "  ggplot(data=., mapping=aes(x=base_region_to, y=RL_minus_LR, fill=mean_RL_minus_LR)) +\n",
    "  geom_violinhalf(scale=\"width\", color=\"black\", position = position_dodge(width = 2), width=1)  +\n",
    "  geom_point(aes(color = mean_RL_minus_LR), position = position_jitter(width = 0.075, height=0),\n",
    "                          size = 1.75, alpha=0.6, stroke=0) +\n",
    "  stat_summary(color=\"black\", fun=\"mean\", geom=\"crossbar\", width=0.55, linewidth=0.3, \n",
    "          show.legend=FALSE, position = position_dodge(width=0))+\n",
    "  scale_fill_gradient2(high=\"#f47599\", low=\"#5dc636\", mid=\"gray90\") +\n",
    "  scale_color_gradient2(high=\"#f47599\", low=\"#5dc636\", mid=\"gray90\") +\n",
    "  geom_hline(yintercept=0, linetype=2) +\n",
    "  theme(legend.position=\"none\")+\n",
    "  coord_flip() +\n",
    "  ylab(\"R\\u2192L minus L\\u2192R DI\") +\n",
    "  xlab(\"Cortical region\")\n",
    "# ggsave(\"../plots/left_right_asymmetry/DI_RL_minus_LR_violins.svg\", width=6, height=8, dpi=300, units=\"in\")"
   ]
  },
  {
   "cell_type": "code",
   "execution_count": null,
   "metadata": {},
   "outputs": [],
   "source": [
    "region_DI_subtract_diffs_mean = (region_DI_subtract_diffs[['base_region_to', 'mean_RL_minus_LR']]\n",
    "                                 .drop_duplicates()\n",
    "                                 .rename(columns={\"base_region_to\": \"Base_Region\",\n",
    "                                                  \"mean_RL_minus_LR\": \"Mean_RL_minus_LR_DI\"})\n",
    ")\n",
    "region_DI_subtract_diffs_mean.head()"
   ]
  },
  {
   "cell_type": "code",
   "execution_count": 25,
   "metadata": {},
   "outputs": [
    {
     "name": "stdout",
     "output_type": "stream",
     "text": [
      "Joining with `by = join_by(label)`\n"
     ]
    },
    {
     "data": {
      "text/plain": [
       "merging atlas and data by 'label', 'atlas', 'type', 'hemi', 'side', 'region', 'roi'\n"
      ]
     },
     "metadata": {},
     "output_type": "display_data"
    },
    {
     "data": {
      "image/png": "[encoded data removed]",
      "text/plain": [
       "<IPython.core.display.Image object>"
      ]
     },
     "metadata": {},
     "output_type": "display_data"
    }
   ],
   "source": [
    "%%R -i region_DI_subtract_diffs_mean\n",
    "\n",
    "# Plot in the brain\n",
    "region_DI_subtract_diffs_mean %>%\n",
    "  distinct(Base_Region, Mean_RL_minus_LR_DI) %>%\n",
    "  mutate(label = glue(\"lh_{Base_Region}\")) %>%\n",
    "  left_join(., as_tibble(dk)) %>%\n",
    "  ggseg(atlas = dk, mapping = aes(fill = Mean_RL_minus_LR_DI),\n",
    "        position = \"stacked\", colour = \"gray20\", hemisphere=\"left\") +\n",
    "  theme_void() +\n",
    "  scale_fill_gradient2(high=\"#f47599\", low=\"#5dc636\", mid=\"gray90\", na.value = \"white\") +\n",
    "  labs(fill = \"Mean RL minus LR DI\") +\n",
    "  theme(plot.title = element_blank(),\n",
    "        legend.position = \"bottom\")\n",
    "# ggsave(\"../plots/left_right_asymmetry/DI_RL_minus_LR_brain.svg\", width=4, height=3, dpi=300, units=\"in\")"
   ]
  },
  {
   "cell_type": "markdown",
   "metadata": {},
   "source": [
    "## Compare with left-right asymmetry in cortical hierarchy map indices"
   ]
  },
  {
   "cell_type": "code",
   "execution_count": 26,
   "metadata": {},
   "outputs": [],
   "source": [
    "\n",
    "if not os.path.exists(\"hierarchy_dk_neuromaps_res.csv\"):\n",
    "    nm_atlas_df = pd.read_csv('hierarchy_neuromaps_atlases.csv')\n",
    "\n",
    "    # Convert the DK atlas to gifti format\n",
    "    dk_gifti = neuromaps.images.annot_to_gifti((lh_dk, rh_dk), background=None)\n",
    "    dk_gifti = neuromaps.images.relabel_gifti(dk_gifti)\n",
    "\n",
    "    # Fit a Parcellator object\n",
    "    parc = Parcellater(dk_gifti, 'fsaverage', resampling_target='parcellation')\n",
    "\n",
    "    # Loop through each atlas, extract the values in Desikan-Killiany space, and create a dataframe\n",
    "    all_dk_neuromaps_res_list = []\n",
    "    for i, row in nm_atlas_df.iterrows():\n",
    "        this_row_category = row['Category']\n",
    "        this_row_desc = row['Description']\n",
    "        source, desc, space, den = row['Filename'].split('-')\n",
    "\n",
    "        try:\n",
    "            print(f\"Fetching {source} {desc} {space} {den}\")\n",
    "            this_atlas_data = fetch_annotation(source=source, desc=desc, space=space, \n",
    "                                                den=den, data_dir=Path(\"/Users/abry4213/neuromaps-data\"))\n",
    "            \n",
    "            # Extract this atlas' values in Desikan-Killiany space\n",
    "            parc_iter = deepcopy(parc)\n",
    "            this_atlas_data_in_dk = parc_iter.fit_transform(this_atlas_data, space)\n",
    "\n",
    "            # Create a dataframe\n",
    "            this_atlas_data_in_dk_df = pd.DataFrame({'Category': this_row_category,\n",
    "                                                        'Description': this_row_desc,\n",
    "                                                        'Region_Index': range(len(this_atlas_data_in_dk)),\n",
    "                                                        'Value': this_atlas_data_in_dk}).merge(brain_region_info, on=\"Region_Index\")\n",
    "            \n",
    "            # Append to the list\n",
    "            all_dk_neuromaps_res_list.append(this_atlas_data_in_dk_df)\n",
    "        \n",
    "        except Exception as e:\n",
    "            print(f\"Error parcellating {source} {desc} {space} {den}: {e}\")\n",
    "            continue\n",
    "\n",
    "    # Concatenate all the dataframes\n",
    "    hierarchy_dk_neuromaps_res = pd.concat(all_dk_neuromaps_res_list)\n",
    "\n",
    "    # Save the results\n",
    "    hierarchy_dk_neuromaps_res.to_csv(\"hierarchy_dk_neuromaps_res.csv\", index=False)\n",
    "\n",
    "else:\n",
    "    hierarchy_dk_neuromaps_res = pd.read_csv(\"hierarchy_dk_neuromaps_res.csv\")\n",
    "\n",
    "hierarchy_dk_neuromaps_res_hemi_avg = hierarchy_dk_neuromaps_res.groupby(['Category', 'Description', 'Base_Region'])['Value'].mean().reset_index()"
   ]
  },
  {
   "cell_type": "markdown",
   "metadata": {},
   "source": [
    "### 1. Does L-R asymmetry correlate between DI and neuromaps hierarchy indices?"
   ]
  },
  {
   "cell_type": "code",
   "execution_count": 29,
   "metadata": {},
   "outputs": [
    {
     "data": {
      "text/html": [
       "<div>\n",
       "<style scoped>\n",
       "    .dataframe tbody tr th:only-of-type {\n",
       "        vertical-align: middle;\n",
       "    }\n",
       "\n",
       "    .dataframe tbody tr th {\n",
       "        vertical-align: top;\n",
       "    }\n",
       "\n",
       "    .dataframe thead th {\n",
       "        text-align: right;\n",
       "    }\n",
       "</style>\n",
       "<table border=\"1\" class=\"dataframe\">\n",
       "  <thead>\n",
       "    <tr style=\"text-align: right;\">\n",
       "      <th>Hemisphere</th>\n",
       "      <th>Category</th>\n",
       "      <th>Description</th>\n",
       "      <th>Base_Region</th>\n",
       "      <th>Mean_L_minus_R</th>\n",
       "    </tr>\n",
       "  </thead>\n",
       "  <tbody>\n",
       "    <tr>\n",
       "      <th>0</th>\n",
       "      <td>Anatomical hierarchy</td>\n",
       "      <td>T1w vs. T2w MRI signal</td>\n",
       "      <td>bankssts</td>\n",
       "      <td>-0.034473</td>\n",
       "    </tr>\n",
       "    <tr>\n",
       "      <th>1</th>\n",
       "      <td>Anatomical hierarchy</td>\n",
       "      <td>T1w vs. T2w MRI signal</td>\n",
       "      <td>caudalanteriorcingulate</td>\n",
       "      <td>-0.023402</td>\n",
       "    </tr>\n",
       "    <tr>\n",
       "      <th>2</th>\n",
       "      <td>Anatomical hierarchy</td>\n",
       "      <td>T1w vs. T2w MRI signal</td>\n",
       "      <td>caudalmiddlefrontal</td>\n",
       "      <td>0.006868</td>\n",
       "    </tr>\n",
       "    <tr>\n",
       "      <th>3</th>\n",
       "      <td>Anatomical hierarchy</td>\n",
       "      <td>T1w vs. T2w MRI signal</td>\n",
       "      <td>cuneus</td>\n",
       "      <td>0.015934</td>\n",
       "    </tr>\n",
       "    <tr>\n",
       "      <th>4</th>\n",
       "      <td>Anatomical hierarchy</td>\n",
       "      <td>T1w vs. T2w MRI signal</td>\n",
       "      <td>entorhinal</td>\n",
       "      <td>0.009476</td>\n",
       "    </tr>\n",
       "    <tr>\n",
       "      <th>...</th>\n",
       "      <td>...</td>\n",
       "      <td>...</td>\n",
       "      <td>...</td>\n",
       "      <td>...</td>\n",
       "    </tr>\n",
       "    <tr>\n",
       "      <th>97</th>\n",
       "      <td>Transcriptomic hierarchy</td>\n",
       "      <td>PC1 of Allen Human Brain Atlas</td>\n",
       "      <td>superiorparietal</td>\n",
       "      <td>0.052149</td>\n",
       "    </tr>\n",
       "    <tr>\n",
       "      <th>98</th>\n",
       "      <td>Transcriptomic hierarchy</td>\n",
       "      <td>PC1 of Allen Human Brain Atlas</td>\n",
       "      <td>superiortemporal</td>\n",
       "      <td>0.124994</td>\n",
       "    </tr>\n",
       "    <tr>\n",
       "      <th>99</th>\n",
       "      <td>Transcriptomic hierarchy</td>\n",
       "      <td>PC1 of Allen Human Brain Atlas</td>\n",
       "      <td>supramarginal</td>\n",
       "      <td>-0.087497</td>\n",
       "    </tr>\n",
       "    <tr>\n",
       "      <th>100</th>\n",
       "      <td>Transcriptomic hierarchy</td>\n",
       "      <td>PC1 of Allen Human Brain Atlas</td>\n",
       "      <td>temporalpole</td>\n",
       "      <td>-0.021793</td>\n",
       "    </tr>\n",
       "    <tr>\n",
       "      <th>101</th>\n",
       "      <td>Transcriptomic hierarchy</td>\n",
       "      <td>PC1 of Allen Human Brain Atlas</td>\n",
       "      <td>transversetemporal</td>\n",
       "      <td>0.115256</td>\n",
       "    </tr>\n",
       "  </tbody>\n",
       "</table>\n",
       "<p>102 rows × 4 columns</p>\n",
       "</div>"
      ],
      "text/plain": [
       "Hemisphere                  Category                     Description  \\\n",
       "0               Anatomical hierarchy          T1w vs. T2w MRI signal   \n",
       "1               Anatomical hierarchy          T1w vs. T2w MRI signal   \n",
       "2               Anatomical hierarchy          T1w vs. T2w MRI signal   \n",
       "3               Anatomical hierarchy          T1w vs. T2w MRI signal   \n",
       "4               Anatomical hierarchy          T1w vs. T2w MRI signal   \n",
       "..                               ...                             ...   \n",
       "97          Transcriptomic hierarchy  PC1 of Allen Human Brain Atlas   \n",
       "98          Transcriptomic hierarchy  PC1 of Allen Human Brain Atlas   \n",
       "99          Transcriptomic hierarchy  PC1 of Allen Human Brain Atlas   \n",
       "100         Transcriptomic hierarchy  PC1 of Allen Human Brain Atlas   \n",
       "101         Transcriptomic hierarchy  PC1 of Allen Human Brain Atlas   \n",
       "\n",
       "Hemisphere              Base_Region  Mean_L_minus_R  \n",
       "0                          bankssts       -0.034473  \n",
       "1           caudalanteriorcingulate       -0.023402  \n",
       "2               caudalmiddlefrontal        0.006868  \n",
       "3                            cuneus        0.015934  \n",
       "4                        entorhinal        0.009476  \n",
       "..                              ...             ...  \n",
       "97                 superiorparietal        0.052149  \n",
       "98                 superiortemporal        0.124994  \n",
       "99                    supramarginal       -0.087497  \n",
       "100                    temporalpole       -0.021793  \n",
       "101              transversetemporal        0.115256  \n",
       "\n",
       "[102 rows x 4 columns]"
      ]
     },
     "execution_count": 29,
     "metadata": {},
     "output_type": "execute_result"
    }
   ],
   "source": [
    "# Group by Description and Base_Region, and find the difference in Value when Hemisphere is left vs right\n",
    "hierarchy_dk_neuromaps_res_hemi_diff = (hierarchy_dk_neuromaps_res\n",
    "                                        .groupby(['Category', 'Description', 'Base_Region', 'Hemisphere'])['Value']\n",
    "                                        .mean()\n",
    "                                        .unstack()\n",
    "                                        .assign(Diff = lambda x: x['Left'] - x['Right'])\n",
    "                                        .reset_index()\n",
    "                                        .drop(columns=['Left', 'Right'])\n",
    "                                        .rename(columns={\"Diff\": \"Mean_L_minus_R\"}))\n",
    "hierarchy_dk_neuromaps_res_hemi_diff\n",
    "\n",
    "# Compute left-right asymmetry in the neuromaps hierarchy measures for comparison with DI L-R asymmetry\n",
    "hierarchy_dk_neuromaps_res_hemi_diff_DI = hierarchy_dk_neuromaps_res_hemi_diff.merge(region_DI_subtract_diffs_mean, on='Base_Region', how='left')\n",
    "\n",
    "# Group by 'Category' and 'Description' and compute the Spearman correlation\n",
    "spearman_corrs_neuromaps_asym_and_DI_asym = (hierarchy_dk_neuromaps_res_hemi_diff_DI\n",
    "                              .groupby(['Category', 'Description'])\n",
    "                              .apply(lambda x: spearmanr(x['Mean_L_minus_R'], x['Mean_RL_minus_LR_DI'])).apply(pd.Series)\n",
    "                              .reset_index()\n",
    "                              .assign(SPI = 'di_gaussian'))\n",
    "\n",
    "# Rename the columns for clarity\n",
    "spearman_corrs_neuromaps_asym_and_DI_asym.columns = ['Category', 'Description', 'Spearman_Correlation', 'p_value', 'SPI']\n",
    "\n",
    "# Display the results\n",
    "spearman_corrs_neuromaps_asym_and_DI_asym['p_val_BH'] = statsmodels.stats.multitest.multipletests(spearman_corrs_neuromaps_asym_and_DI_asym.p_value, method=\"fdr_bh\")[1]\n",
    "\n",
    "# Filter to significant results\n",
    "spearman_corrs_neuromaps_asym_and_DI_asym_sig = spearman_corrs_neuromaps_asym_and_DI_asym.query(\"p_val_BH < 0.05 & abs(Spearman_Correlation) > 0.5\")"
   ]
  },
  {
   "cell_type": "markdown",
   "metadata": {},
   "source": [
    "### 2. Does L-R asymmetry in DI correlate with regions' hierarchy magnitudes? "
   ]
  },
  {
   "cell_type": "code",
   "execution_count": 38,
   "metadata": {},
   "outputs": [
    {
     "name": "stderr",
     "output_type": "stream",
     "text": [
      "/var/folders/rn/z0683sns3tz7b_k0cbf8ft8w0000gq/T/ipykernel_81581/2069073392.py:6: DeprecationWarning: DataFrameGroupBy.apply operated on the grouping columns. This behavior is deprecated, and in a future version of pandas the grouping columns will be excluded from the operation. Either pass `include_groups=False` to exclude the groupings or explicitly select the grouping columns after groupby to silence this warning.\n",
      "  spearman_corrs_neuromaps_magnitude_and_DI_asym = (hierarchy_dk_neuromaps_res_with_DI_asym\n"
     ]
    }
   ],
   "source": [
    "# Compute left-right asymmetry in the neuromaps hierarchy measures for comparison with DI L-R asymmetry\n",
    "hierarchy_dk_neuromaps_res_with_DI_asym = hierarchy_dk_neuromaps_res_hemi_avg.merge(region_DI_subtract_diffs_mean, on='Base_Region', how='left')\n",
    "\n",
    "\n",
    "# Group by 'Category' and 'Description' and compute the Spearman correlation\n",
    "spearman_corrs_neuromaps_magnitude_and_DI_asym = (hierarchy_dk_neuromaps_res_with_DI_asym\n",
    "                              .groupby(['Category', 'Description'])\n",
    "                              .apply(lambda x: spearmanr(x['Value'], x['Mean_RL_minus_LR_DI'])).apply(pd.Series)\n",
    "                              .reset_index()\n",
    "                              .assign(SPI = 'di_gaussian'))\n",
    "\n",
    "# Rename the columns for clarity\n",
    "spearman_corrs_neuromaps_magnitude_and_DI_asym.columns = ['Category', 'Description', 'Spearman_Correlation', 'p_value', 'SPI']\n",
    "\n",
    "# Display the results\n",
    "spearman_corrs_neuromaps_magnitude_and_DI_asym['p_val_BH'] = statsmodels.stats.multitest.multipletests(spearman_corrs_neuromaps_magnitude_and_DI_asym.p_value, method=\"fdr_bh\")[1]\n",
    "\n",
    "# Filter to significant results\n",
    "spearman_corrs_neuromaps_magnitude_and_DI_asym_sig = spearman_corrs_neuromaps_magnitude_and_DI_asym.query(\"p_val_BH < 0.05 & abs(Spearman_Correlation) > 0.5\")"
   ]
  },
  {
   "cell_type": "markdown",
   "metadata": {},
   "source": [
    "### 3. Is the DI L/R asymmetry associated with L/R asymmetry in ANY neuromaps?"
   ]
  },
  {
   "cell_type": "code",
   "execution_count": 39,
   "metadata": {},
   "outputs": [],
   "source": [
    "# Read in brain region lookup table\n",
    "brain_region_info = pd.read_csv(\"../Brain_Region_Info.csv\")\n",
    "\n",
    "# Define the left- and right-hemisphere Desikan-Killiany (DK) atlas\n",
    "lh_dk = \"/Users/abry4213/data/neuroimaging_atlases/surfaces/DesikanKilliany/fsaverage/lh.aparc.annot\"\n",
    "rh_dk = \"/Users/abry4213/data/neuroimaging_atlases/surfaces/DesikanKilliany/fsaverage/rh.aparc.annot\"\n",
    "\n",
    "if not os.path.exists(\"all_dk_neuromaps_res.csv\"):\n",
    "    nm_atlas_df = pd.read_csv('neuromaps_atlases.csv')\n",
    "\n",
    "    # Convert the DK atlas to gifti format\n",
    "    dk_gifti = neuromaps.images.annot_to_gifti((lh_dk, rh_dk), background=None)\n",
    "    dk_gifti = neuromaps.images.relabel_gifti(dk_gifti)\n",
    "\n",
    "    # Fit a Parcellator object\n",
    "    parc = Parcellater(dk_gifti, 'fsaverage', resampling_target='parcellation')\n",
    "\n",
    "    # Loop through each atlas, extract the values in Desikan-Killiany space, and create a dataframe\n",
    "    all_dk_neuromaps_res_list = []\n",
    "    for i, row in nm_atlas_df.iterrows():\n",
    "        this_row_category = row['Category']\n",
    "        this_row_desc = row['Description']\n",
    "        source, desc, space, den = row['Filename'].split('-')\n",
    "\n",
    "        try:\n",
    "            print(f\"Computing correlations for {source} {desc} {space} {den}\")\n",
    "            this_atlas_data = fetch_annotation(source=source, desc=desc, space=space, \n",
    "                                                den=den, data_dir=Path(\"/Users/abry4213/neuromaps-data\"))\n",
    "            \n",
    "            # Extract this atlas' values in Desikan-Killiany space\n",
    "            parc_iter = deepcopy(parc)\n",
    "            this_atlas_data_in_dk = parc_iter.fit_transform(this_atlas_data, space)\n",
    "\n",
    "            # Create a dataframe\n",
    "            this_atlas_data_in_dk_df = pd.DataFrame({'Category': this_row_category,\n",
    "                                                        'Description': this_row_desc,\n",
    "                                                        'Region_Index': range(len(this_atlas_data_in_dk)),\n",
    "                                                        'Value': this_atlas_data_in_dk}).merge(brain_region_info, on=\"Region_Index\")\n",
    "            \n",
    "            # Append to the list\n",
    "            all_dk_neuromaps_res_list.append(this_atlas_data_in_dk_df)\n",
    "        \n",
    "        except Exception as e:\n",
    "            print(f\"Error parcellating {source} {desc} {space} {den}: {e}\")\n",
    "            continue\n",
    "\n",
    "    # Concatenate all the dataframes\n",
    "    all_dk_neuromaps_res = pd.concat(all_dk_neuromaps_res_list)\n",
    "\n",
    "    # Save the results\n",
    "    all_dk_neuromaps_res.to_csv(\"all_dk_neuromaps_res.csv\", index=False)\n",
    "\n",
    "else:\n",
    "    all_dk_neuromaps_res = pd.read_csv(\"all_dk_neuromaps_res.csv\")\n",
    "\n",
    "all_dk_neuromaps_res_hemi_avg = all_dk_neuromaps_res.groupby(['Category', 'Description', 'Base_Region'])['Value'].mean().reset_index()"
   ]
  },
  {
   "cell_type": "code",
   "execution_count": 41,
   "metadata": {},
   "outputs": [
    {
     "name": "stderr",
     "output_type": "stream",
     "text": [
      "/var/folders/rn/z0683sns3tz7b_k0cbf8ft8w0000gq/T/ipykernel_81581/1667140744.py:15: DeprecationWarning: DataFrameGroupBy.apply operated on the grouping columns. This behavior is deprecated, and in a future version of pandas the grouping columns will be excluded from the operation. Either pass `include_groups=False` to exclude the groupings or explicitly select the grouping columns after groupby to silence this warning.\n",
      "  spearman_corrs_neuromaps_all_asym_and_DI_asym = (all_dk_neuromaps_res_hemi_diff_DI\n"
     ]
    }
   ],
   "source": [
    "# Group by Description and Base_Region, and find the difference in Value when Hemisphere is left vs right\n",
    "all_dk_neuromaps_res_hemi_diff = (all_dk_neuromaps_res\n",
    "                                        .groupby(['Category', 'Description', 'Base_Region', 'Hemisphere'])['Value']\n",
    "                                        .mean()\n",
    "                                        .unstack()\n",
    "                                        .assign(Diff = lambda x: x['Left'] - x['Right'])\n",
    "                                        .reset_index()\n",
    "                                        .drop(columns=['Left', 'Right'])\n",
    "                                        .rename(columns={\"Diff\": \"Mean_L_minus_R\"}))\n",
    "\n",
    "# Compute left-right asymmetry in the neuromaps hierarchy measures for comparison with DI L-R asymmetry\n",
    "all_dk_neuromaps_res_hemi_diff_DI = all_dk_neuromaps_res_hemi_diff.merge(region_DI_subtract_diffs_mean, on='Base_Region', how='left')\n",
    "\n",
    "# Group by 'Category' and 'Description' and compute the Spearman correlation\n",
    "spearman_corrs_neuromaps_all_asym_and_DI_asym = (all_dk_neuromaps_res_hemi_diff_DI\n",
    "                              .groupby(['Category', 'Description'])\n",
    "                              .apply(lambda x: spearmanr(x['Mean_L_minus_R'], x['Mean_RL_minus_LR_DI'])).apply(pd.Series)\n",
    "                              .reset_index()\n",
    "                              .assign(SPI = 'di_gaussian'))\n",
    "\n",
    "# Rename the columns for clarity\n",
    "spearman_corrs_neuromaps_all_asym_and_DI_asym.columns = ['Category', 'Description', 'Spearman_Correlation', 'p_value', 'SPI']\n",
    "\n",
    "# Display the results\n",
    "spearman_corrs_neuromaps_all_asym_and_DI_asym['p_val_BH'] = statsmodels.stats.multitest.multipletests(spearman_corrs_neuromaps_all_asym_and_DI_asym.p_value, method=\"fdr_bh\")[1]\n",
    "\n",
    "# Filter to significant results\n",
    "spearman_corrs_neuromaps_all_asym_and_DI_asym_sig = spearman_corrs_neuromaps_all_asym_and_DI_asym.query(\"p_val_BH < 0.05 & abs(Spearman_Correlation) > 0.5\")"
   ]
  },
  {
   "cell_type": "markdown",
   "metadata": {},
   "source": [
    "### 4. Does L-R asymmetry in DI correlate with regions' magnitudes in ANY neuromaps? "
   ]
  },
  {
   "cell_type": "code",
   "execution_count": 42,
   "metadata": {},
   "outputs": [
    {
     "name": "stderr",
     "output_type": "stream",
     "text": [
      "/var/folders/rn/z0683sns3tz7b_k0cbf8ft8w0000gq/T/ipykernel_81581/3331776661.py:6: DeprecationWarning: DataFrameGroupBy.apply operated on the grouping columns. This behavior is deprecated, and in a future version of pandas the grouping columns will be excluded from the operation. Either pass `include_groups=False` to exclude the groupings or explicitly select the grouping columns after groupby to silence this warning.\n",
      "  spearman_corrs_all_neuromaps_magnitude_and_DI_asym = (all_dk_neuromaps_res_with_DI_asym\n"
     ]
    }
   ],
   "source": [
    "# Compute left-right asymmetry in the neuromaps hierarchy measures for comparison with DI L-R asymmetry\n",
    "all_dk_neuromaps_res_with_DI_asym = all_dk_neuromaps_res_hemi_avg.merge(region_DI_subtract_diffs_mean, on='Base_Region', how='left')\n",
    "\n",
    "\n",
    "# Group by 'Category' and 'Description' and compute the Spearman correlation\n",
    "spearman_corrs_all_neuromaps_magnitude_and_DI_asym = (all_dk_neuromaps_res_with_DI_asym\n",
    "                              .groupby(['Category', 'Description'])\n",
    "                              .apply(lambda x: spearmanr(x['Value'], x['Mean_RL_minus_LR_DI'])).apply(pd.Series)\n",
    "                              .reset_index()\n",
    "                              .assign(SPI = 'di_gaussian'))\n",
    "\n",
    "# Rename the columns for clarity\n",
    "spearman_corrs_all_neuromaps_magnitude_and_DI_asym.columns = ['Category', 'Description', 'Spearman_Correlation', 'p_value', 'SPI']\n",
    "\n",
    "# Display the results\n",
    "spearman_corrs_all_neuromaps_magnitude_and_DI_asym['p_val_BH'] = statsmodels.stats.multitest.multipletests(spearman_corrs_all_neuromaps_magnitude_and_DI_asym.p_value, method=\"fdr_bh\")[1]\n",
    "\n",
    "# Filter to significant results\n",
    "spearman_corrs_all_neuromaps_magnitude_and_DI_asym_sig = spearman_corrs_all_neuromaps_magnitude_and_DI_asym.query(\"p_val_BH < 0.05 & abs(Spearman_Correlation) > 0.5\")"
   ]
  },
  {
   "cell_type": "markdown",
   "metadata": {},
   "source": [
    "## Robustness checks: Associations between L/R asymmetry and structural properties"
   ]
  },
  {
   "cell_type": "code",
   "execution_count": null,
   "metadata": {},
   "outputs": [],
   "source": [
    "## Load structural data\n",
    "# Read in brain region lookup table\n",
    "brain_region_info = pd.read_csv(\"../Brain_Region_Info.csv\")\n",
    "fsaverage_data_base_path = \"/Users/abry4213/data/neuroimaging_atlases/surfaces/DesikanKilliany/fsaverage\"\n",
    "\n",
    "all_centroid_res_list = []\n",
    "for hemi in [\"lh\", \"rh\"]:\n",
    "\n",
    "    # Load annotation file (parcellation)\n",
    "    annot_path = f\"{fsaverage_data_base_path}/{hemi}.aparc.annot\"\n",
    "    labels, ctab, names = fs.read_annot(annot_path)\n",
    "\n",
    "    # Load label file (vertex coordinates)\n",
    "    label_path = f\"{fsaverage_data_base_path}/{hemi}.aparc.label\"\n",
    "    vertices = fs.read_label(label_path)\n",
    "\n",
    "    # Load the FreeSurfer surface (to get vertex coordinates)\n",
    "    pial_path = f\"{fsaverage_data_base_path}/{hemi}.pial\"\n",
    "    surf = fs.read_geometry(pial_path)\n",
    "    coords, faces = surf\n",
    "    cort = np.sort(fs.read_label(f\"{fsaverage_data_base_path}/{hemi}.cortex.label\"))\n",
    "\n",
    "    # Create a dictionary to store centroids\n",
    "    roi_centroids = {}\n",
    "\n",
    "    # Compute centroids for each ROI\n",
    "    for i, roi_name in enumerate(names):\n",
    "        roi_vertices = np.where(labels == i)[0]  # Get vertex indices in this ROI\n",
    "        if len(roi_vertices) > 0:\n",
    "            roi_centroids[roi_name] = coords[roi_vertices].mean(axis=0)  # Mean position\n",
    "\n",
    "    # Convert centroids to DataFrame\n",
    "    centroid_df = pd.DataFrame(roi_centroids).T\n",
    "    centroid_df.columns = [\"x\", \"y\", \"z\"]\n",
    "\n",
    "    # Convert names to strings, dropping corpuscallosum\n",
    "    names_dec = [name.decode() for name in names if name.decode() not in [\"corpuscallosum\"]]\n",
    "\n",
    "    # If centroid_df has 34 rows, drop 'unknown' from names\n",
    "    if centroid_df.shape[0] == 34:\n",
    "        names_dec = [name for name in names_dec if name != \"unknown\"]\n",
    "\n",
    "    # Add region names and hemisphere\n",
    "    centroid_df = (centroid_df.reset_index(drop=True).assign(Base_Region=names_dec, \n",
    "                                                             Hemisphere=np.where(hemi == \"lh\", \"Left\", \"Right\"))\n",
    "                                                     .assign(Brain_Region = lambda x: hemi + '-' + x['Base_Region']))\n",
    "\n",
    "    # Append to list\n",
    "    all_centroid_res_list.append(centroid_df)\n",
    "\n",
    "# Concatenate the results\n",
    "all_centroid_res = pd.concat(all_centroid_res_list).query(\"Base_Region != 'unknown'\")\n",
    "\n",
    "# Compute Euclidean distances between all ROI centroids\n",
    "dist_matrix = cdist(all_centroid_res[['x', 'y', 'z']], all_centroid_res[['x', 'y', 'z']], metric=\"euclidean\")\n",
    "\n",
    "# Convert to DataFrame\n",
    "euclidean_dist_df = (pd.DataFrame(dist_matrix, index=all_centroid_res['Brain_Region'], \n",
    "                        columns=all_centroid_res['Brain_Region'])\n",
    "                        .reset_index()\n",
    "                        .rename(columns={\"Brain_Region\": \"Brain_Region_From\"})\n",
    "                        .melt(id_vars='Brain_Region_From', var_name='Brain_Region_To', value_name='Euclidean_Distance')\n",
    "                        .query(\"Brain_Region_From != Brain_Region_To\")\n",
    "                        .assign(Base_Region_From = lambda x: x['Brain_Region_From'].str.split('-').str[1],\n",
    "                                Base_Region_To = lambda x: x['Brain_Region_To'].str.split('-').str[1],\n",
    "                                Hemi_From = lambda x: np.where(x['Brain_Region_From'].str.split('-').str[0]=='lh', 'Left', 'Right'),\n",
    "                                Hemi_To = lambda x: np.where(x['Brain_Region_To'].str.split('-').str[0]=='lh', 'Left', 'Right'))\n",
    "                        )\n",
    "\n",
    "# Filter to just the homotopic regions\n",
    "homotopic_euclidean_dist_df = (euclidean_dist_df.query(\"Base_Region_From == Base_Region_To\").drop_duplicates(subset=['Base_Region_To', 'Euclidean_Distance'])\n",
    "                               .filter(['Base_Region_To', 'Euclidean_Distance'])\n",
    "                               .rename(columns={\"Base_Region_To\": \"Base_Region\",\n",
    "                                                \"Euclidean_Distance\": \"Value\"})\n",
    "                               .assign(Category = \"Microstructure\", Description = \"Euclidean Distance\")\n",
    "                               )\n",
    "\n",
    "# Load in the group-averaged connectome data\n",
    "homotopic_SC_dist_df = (pd.read_csv(f\"{data_path}/raw_data/diffusion_MRI/aparc_HCP100_group_avg_SIFT2_consistency_75.csv\",\n",
    "                               header=None, \n",
    "                               names=brain_region_info.Brain_Region)\n",
    "                               .assign(Brain_Region_From=brain_region_info.Brain_Region)\n",
    "                               .melt(id_vars=\"Brain_Region_From\", var_name=\"Brain_Region_To\", value_name=\"SC\")\n",
    "                               .assign(log_SC = lambda x: np.where(x['SC'] > 0, np.log(x['SC']), 0))\n",
    "                               .query(\"Brain_Region_From != Brain_Region_To\")\n",
    "                               .assign(Base_Region_From = lambda x: x.Brain_Region_From.str.replace('ctx-lh-', ''),\n",
    "                                       Base_Region_To = lambda x: x.Brain_Region_To.str.replace('ctx-lh-', ''),\n",
    "                                       Hemi_From = lambda x: np.where(x.Brain_Region_From.str.contains('lh'), 'Left', 'Right'),\n",
    "                                       Hemi_To = lambda x: np.where(x.Brain_Region_To.str.contains('lh'), 'Left', 'Right'))\n",
    "                                .assign(Base_Region_From = lambda x: x.Base_Region_From.str.replace('ctx-rh-', ''),\n",
    "                                        Base_Region_To = lambda x: x.Base_Region_To.str.replace('ctx-rh-', ''))\n",
    "                               .query(\"Base_Region_From == Base_Region_To\")\n",
    "                               .rename(columns={\"Base_Region_From\": \"Base_Region\"})\n",
    "                               .drop_duplicates(subset=['Base_Region', 'SC', 'log_SC'])\n",
    "                               .filter(['Base_Region', 'log_SC'])\n",
    "                               .rename(columns={\"log_SC\": \"Value\"})\n",
    "                               .assign(Category = \"Microstructure\", Description = \"Log-SC\")\n",
    ")\n",
    "structural_data = (pd.concat([homotopic_euclidean_dist_df, homotopic_SC_dist_df])\n",
    "                   .merge(region_DI_subtract_diffs_mean, on=\"Base_Region\", how=\"left\"))"
   ]
  },
  {
   "cell_type": "code",
   "execution_count": 21,
   "metadata": {},
   "outputs": [
    {
     "name": "stdout",
     "output_type": "stream",
     "text": [
      "`geom_smooth()` using formula = 'y ~ x'\n"
     ]
    },
    {
     "name": "stderr",
     "output_type": "stream",
     "text": [
      "R[write to console]: In addition: \n",
      "R[write to console]: Warning messages:\n",
      "\n",
      "R[write to console]: 1: The following aesthetics were dropped during statistical transformation: fill.\n",
      "ℹ This can happen when ggplot fails to infer the correct grouping structure in\n",
      "  the data.\n",
      "ℹ Did you forget to specify a `group` aesthetic or to convert a numerical\n",
      "  variable into a factor? \n",
      "\n",
      "R[write to console]: 2: The following aesthetics were dropped during statistical transformation: fill.\n",
      "ℹ This can happen when ggplot fails to infer the correct grouping structure in\n",
      "  the data.\n",
      "ℹ Did you forget to specify a `group` aesthetic or to convert a numerical\n",
      "  variable into a factor? \n",
      "\n",
      "R[write to console]: 3: The following aesthetics were dropped during statistical transformation: fill.\n",
      "ℹ This can happen when ggplot fails to infer the correct grouping structure in\n",
      "  the data.\n",
      "ℹ Did you forget to specify a `group` aesthetic or to convert a numerical\n",
      "  variable into a factor? \n",
      "\n",
      "R[write to console]: 4: The following aesthetics were dropped during statistical transformation: fill.\n",
      "ℹ This can happen when ggplot fails to infer the correct grouping structure in\n",
      "  the data.\n",
      "ℹ Did you forget to specify a `group` aesthetic or to convert a numerical\n",
      "  variable into a factor? \n",
      "\n"
     ]
    },
    {
     "data": {
      "image/png": "[encoded data removed]",
      "text/plain": [
       "<IPython.core.display.Image object>"
      ]
     },
     "metadata": {},
     "output_type": "display_data"
    }
   ],
   "source": [
    "%%R -i structural_data\n",
    "\n",
    "structural_data %>% \n",
    "    filter(Description %in% c(\"Euclidean Distance\", \"Log-SC\")) %>%\n",
    "    ggplot(aes(x=Value, y=Mean_RL_minus_LR_DI, fill=Mean_RL_minus_LR_DI)) +\n",
    "    geom_point(color='black', shape=21, size=2.7) +\n",
    "    scale_fill_gradient2(high=\"#f47599\", low=\"#5dc636\", mid=\"gray90\") +\n",
    "    geom_smooth(method=\"lm\", se=FALSE, color='black') +\n",
    "    facet_wrap(. ~ Description, scales=\"free\", ncol=1) +\n",
    "    theme(legend.position=\"none\") +\n",
    "    ggpubr::stat_cor(method=\"spearman\", cor.coef.name=\"rho\", size=5) +\n",
    "    xlab(\"Value\") +\n",
    "    ylab(\"DI, RL minus LR\") +\n",
    "    theme(strip.background = element_blank(),\n",
    "          strip.text = element_text(face='bold', size=14))\n",
    "# ggsave(\"../plots/left_right_asymmetry/Mean_DI_LR_asymmetry_vs_physical_distance.svg\", width=2.7, height=5, dpi=300, units=\"in\")"
   ]
  },
  {
   "cell_type": "code",
   "execution_count": 22,
   "metadata": {},
   "outputs": [
    {
     "name": "stderr",
     "output_type": "stream",
     "text": [
      "R[write to console]: In addition: \n",
      "R[write to console]: Warning message:\n",
      "\n",
      "R[write to console]: The following aesthetics were dropped during statistical transformation: fill.\n",
      "ℹ This can happen when ggplot fails to infer the correct grouping structure in\n",
      "  the data.\n",
      "ℹ Did you forget to specify a `group` aesthetic or to convert a numerical\n",
      "  variable into a factor? \n",
      "\n"
     ]
    },
    {
     "data": {
      "image/png": "[encoded data removed]",
      "text/plain": [
       "<IPython.core.display.Image object>"
      ]
     },
     "metadata": {},
     "output_type": "display_data"
    }
   ],
   "source": [
    "%%R -i region_DI_subtract_diffs\n",
    "\n",
    "region_DI_subtract_diffs %>% \n",
    "    rowwise() %>%\n",
    "    mutate(mean_DI_LR_magnitude = mean(c(DI_LR, DI_RL))) %>%\n",
    "    group_by(base_region_to) %>%\n",
    "    summarise(mean_DI_LR_magnitude = mean(mean_DI_LR_magnitude),\n",
    "              mean_RL_minus_LR = mean(mean_RL_minus_LR)) %>%\n",
    "    ggplot(aes(x=mean_DI_LR_magnitude, y=mean_RL_minus_LR, fill=mean_RL_minus_LR)) +\n",
    "    scale_fill_gradient2(high=\"#f47599\", low=\"#5dc636\", mid=\"gray90\") +\n",
    "    geom_point(shape=21, size=2.5) +\n",
    "    theme(legend.position=\"none\") +\n",
    "    ggpubr::stat_cor(method=\"spearman\", cor.coef.name=\"rho\", size=5, aes(label = ..r.label..), label.x = 1.7) +\n",
    "    ylab(\"Mean RL minus LR DI in region\") +\n",
    "    xlab(\"Mean DI magnitude in region\")\n",
    "# ggsave(\"../plots/left_right_asymmetry/Mean_DI_LR_asymmetry_vs_magnitude.svg\", width=2.7, height=2.5, dpi=300, units=\"in\")"
   ]
  }
 ],
 "metadata": {
  "kernelspec": {
   "display_name": "annie_env",
   "language": "python",
   "name": "python3"
  },
  "language_info": {
   "codemirror_mode": {
    "name": "ipython",
    "version": 3
   },
   "file_extension": ".py",
   "mimetype": "text/x-python",
   "name": "python",
   "nbconvert_exporter": "python",
   "pygments_lexer": "ipython3",
   "version": "3.9.21"
  }
 },
 "nbformat": 4,
 "nbformat_minor": 2
}
