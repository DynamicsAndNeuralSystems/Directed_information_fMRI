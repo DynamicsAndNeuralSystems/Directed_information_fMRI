{
 "cells": [
  {
   "cell_type": "code",
   "execution_count": 2,
   "metadata": {},
   "outputs": [],
   "source": [
    "import pandas as pd \n",
    "import numpy as np"
   ]
  },
  {
   "cell_type": "code",
   "execution_count": 4,
   "metadata": {},
   "outputs": [],
   "source": [
    "data_path = \"/headnode1/abry4213/data/\"\n",
    "UCLA_CNP_data_path = f\"{data_path}/TS_feature_manuscript/time_series_features\"\n",
    "\n",
    "UCLA_CNP_pyspi = pd.read_feather(f\"{UCLA_CNP_data_path}/UCLA_CNP_pyspi14_filtered.feather\")"
   ]
  },
  {
   "cell_type": "code",
   "execution_count": 22,
   "metadata": {},
   "outputs": [],
   "source": [
    "# Replace 'ctx-lh', 'ctx-rh', 'Left-', or 'Right-' with empty string\n",
    "lookup_dict = {'ctx-lh-': '', 'ctx-rh-': '', 'Left-': '', 'Right-': ''}\n",
    "\n",
    "UCLA_CNP_Pearson_HoFC = (UCLA_CNP_pyspi\n",
    "                         .query(\"SPI=='cov_EmpiricalCovariance'\")\n",
    "                         .assign(base_region_from = lambda x: x['brain_region_from'].replace(lookup_dict, regex=True),\n",
    "                                                     base_region_to = lambda x: x['brain_region_to'].replace(lookup_dict, regex=True),\n",
    "                                                     hemi_from = lambda x: np.where(x['brain_region_from'].str.contains('ctx-lh|Left'), 'L', 'R'),\n",
    "                                                     hemi_to = lambda x: np.where(x['brain_region_to'].str.contains('ctx-lh|Left'), 'L', 'R')\n",
    "                                                    )\n",
    "                         .query(\"base_region_from == base_region_to\")\n",
    "                         .rename(columns={'base_region_from': 'base_region'})\n",
    "                         .drop(columns=['base_region_to', 'brain_region_from', 'brain_region_to', 'hemi_from', 'hemi_to'])\n",
    "                         .drop_duplicates()\n",
    ")\n",
    "\n",
    "# Save to CSV\n",
    "UCLA_CNP_Pearson_HoFC.to_csv(f\"{data_path}/HCP100/time_series_features/UCLA_CNP_Pearson_HoFC.csv\", index=False)"
   ]
  },
  {
   "cell_type": "code",
   "execution_count": 23,
   "metadata": {},
   "outputs": [
    {
     "data": {
      "text/html": [
       "<div>\n",
       "<style scoped>\n",
       "    .dataframe tbody tr th:only-of-type {\n",
       "        vertical-align: middle;\n",
       "    }\n",
       "\n",
       "    .dataframe tbody tr th {\n",
       "        vertical-align: top;\n",
       "    }\n",
       "\n",
       "    .dataframe thead th {\n",
       "        text-align: right;\n",
       "    }\n",
       "</style>\n",
       "<table border=\"1\" class=\"dataframe\">\n",
       "  <thead>\n",
       "    <tr style=\"text-align: right;\">\n",
       "      <th></th>\n",
       "      <th>value</th>\n",
       "      <th>SPI</th>\n",
       "      <th>Sample_ID</th>\n",
       "      <th>base_region</th>\n",
       "      <th>hemi_from</th>\n",
       "      <th>hemi_to</th>\n",
       "    </tr>\n",
       "  </thead>\n",
       "  <tbody>\n",
       "    <tr>\n",
       "      <th>26608</th>\n",
       "      <td>0.677708</td>\n",
       "      <td>di_gaussian</td>\n",
       "      <td>sub-10159</td>\n",
       "      <td>bankssts</td>\n",
       "      <td>R</td>\n",
       "      <td>L</td>\n",
       "    </tr>\n",
       "    <tr>\n",
       "      <th>26690</th>\n",
       "      <td>0.227926</td>\n",
       "      <td>di_gaussian</td>\n",
       "      <td>sub-10159</td>\n",
       "      <td>caudalanteriorcingulate</td>\n",
       "      <td>R</td>\n",
       "      <td>L</td>\n",
       "    </tr>\n",
       "    <tr>\n",
       "      <th>26772</th>\n",
       "      <td>0.778922</td>\n",
       "      <td>di_gaussian</td>\n",
       "      <td>sub-10159</td>\n",
       "      <td>caudalmiddlefrontal</td>\n",
       "      <td>R</td>\n",
       "      <td>L</td>\n",
       "    </tr>\n",
       "    <tr>\n",
       "      <th>26854</th>\n",
       "      <td>1.826143</td>\n",
       "      <td>di_gaussian</td>\n",
       "      <td>sub-10159</td>\n",
       "      <td>cuneus</td>\n",
       "      <td>R</td>\n",
       "      <td>L</td>\n",
       "    </tr>\n",
       "    <tr>\n",
       "      <th>26936</th>\n",
       "      <td>0.149528</td>\n",
       "      <td>di_gaussian</td>\n",
       "      <td>sub-10159</td>\n",
       "      <td>entorhinal</td>\n",
       "      <td>R</td>\n",
       "      <td>L</td>\n",
       "    </tr>\n",
       "  </tbody>\n",
       "</table>\n",
       "</div>"
      ],
      "text/plain": [
       "          value          SPI  Sample_ID              base_region hemi_from  \\\n",
       "26608  0.677708  di_gaussian  sub-10159                 bankssts         R   \n",
       "26690  0.227926  di_gaussian  sub-10159  caudalanteriorcingulate         R   \n",
       "26772  0.778922  di_gaussian  sub-10159      caudalmiddlefrontal         R   \n",
       "26854  1.826143  di_gaussian  sub-10159                   cuneus         R   \n",
       "26936  0.149528  di_gaussian  sub-10159               entorhinal         R   \n",
       "\n",
       "      hemi_to  \n",
       "26608       L  \n",
       "26690       L  \n",
       "26772       L  \n",
       "26854       L  \n",
       "26936       L  "
      ]
     },
     "execution_count": 23,
     "metadata": {},
     "output_type": "execute_result"
    }
   ],
   "source": [
    "# Replace 'ctx-lh', 'ctx-rh', 'Left-', or 'Right-' with empty string\n",
    "lookup_dict = {'ctx-lh-': '', 'ctx-rh-': '', 'Left-': '', 'Right-': ''}\n",
    "\n",
    "UCLA_CNP_di_gaussian_HoFC = (UCLA_CNP_pyspi\n",
    "                         .query(\"SPI=='di_gaussian'\")\n",
    "                         .assign(base_region_from = lambda x: x['brain_region_from'].replace(lookup_dict, regex=True),\n",
    "                                                     base_region_to = lambda x: x['brain_region_to'].replace(lookup_dict, regex=True),\n",
    "                                                     hemi_from = lambda x: np.where(x['brain_region_from'].str.contains('ctx-lh|Left'), 'L', 'R'),\n",
    "                                                     hemi_to = lambda x: np.where(x['brain_region_to'].str.contains('ctx-lh|Left'), 'L', 'R')\n",
    "                                                    )\n",
    "                         .query(\"base_region_from == base_region_to\")\n",
    "                         .rename(columns={'base_region_from': 'base_region'})\n",
    "                         .drop(columns=['base_region_to', 'brain_region_from', 'brain_region_to'])\n",
    ")\n",
    "\n",
    "# Save to CSV\n",
    "UCLA_CNP_di_gaussian_HoFC.to_csv(f\"{data_path}/HCP100/time_series_features/UCLA_CNP_DI_gaussian_HoFC.csv\", index=False)"
   ]
  },
  {
   "cell_type": "code",
   "execution_count": 25,
   "metadata": {},
   "outputs": [],
   "source": []
  }
 ],
 "metadata": {
  "kernelspec": {
   "display_name": "Python 3",
   "language": "python",
   "name": "python3"
  },
  "language_info": {
   "codemirror_mode": {
    "name": "ipython",
    "version": 3
   },
   "file_extension": ".py",
   "mimetype": "text/x-python",
   "name": "python",
   "nbconvert_exporter": "python",
   "pygments_lexer": "ipython3",
   "version": "3.9.13"
  }
 },
 "nbformat": 4,
 "nbformat_minor": 2
}
