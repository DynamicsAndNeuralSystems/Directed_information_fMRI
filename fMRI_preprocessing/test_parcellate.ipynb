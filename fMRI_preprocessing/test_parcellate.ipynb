{
 "cells": [
  {
   "cell_type": "code",
   "execution_count": 1,
   "metadata": {},
   "outputs": [],
   "source": [
    "import pandas as pd\n",
    "import numpy as np\n",
    "import random\n",
    "\n",
    "# File operations\n",
    "from copy import deepcopy\n",
    "import glob\n",
    "import os\n",
    "from pathlib import Path\n",
    "\n",
    "# Neuroimaging\n",
    "import neuromaps\n",
    "from neuromaps.parcellate import Parcellater\n",
    "from neuromaps import datasets, images, nulls, resampling, stats\n",
    "from nibabel import freesurfer as fs\n",
    "import nibabel as nib\n",
    "from neuromaps.datasets import fetch_annotation, fetch_fslr\n",
    "\n",
    "# Set seed to 127\n",
    "random.seed(127)"
   ]
  },
  {
   "cell_type": "code",
   "execution_count": 2,
   "metadata": {},
   "outputs": [],
   "source": [
    "atlas_data_path = \"/taiji1/abry4213/data/neuroimaging_atlases/surfaces/\"\n",
    "fMRI_data_path = \"/taiji1/abry4213/data/HCP/S1200/resting_fMRI/\""
   ]
  },
  {
   "cell_type": "code",
   "execution_count": 42,
   "metadata": {},
   "outputs": [
    {
     "name": "stderr",
     "output_type": "stream",
     "text": [
      "pixdim[1,2,3] should be non-zero; setting 0 dims to 1\n",
      "WARNING: pixdim[1,2,3] should be non-zero; setting 0 dims to 1\n",
      "pixdim[1,2,3] should be non-zero; setting 0 dims to 1\n",
      "WARNING: pixdim[1,2,3] should be non-zero; setting 0 dims to 1\n"
     ]
    }
   ],
   "source": [
    "import nibabel as nib\n",
    "import numpy as np\n",
    "import pandas as pd\n",
    "\n",
    "this_subject = '100307'\n",
    "\n",
    "# Load the CIFTI grayordinate timeseries\n",
    "cifti_file = f'{fMRI_data_path}/raw_data/{this_subject}/rfMRI_REST1_LR_Atlas_MSMAll_hp2000_clean.dtseries.nii'\n",
    "dtseries = nib.load(cifti_file)\n",
    "data = dtseries.get_fdata()  # shape: (timepoints, grayordinates)\n",
    "\n",
    "# Load the parcellations (dlabel.nii)\n",
    "cortical_labels = nib.load(f'{atlas_data_path}/Schaefer/HCP/Yan2023_Homotopic/300Parcels_Yeo2011_7Networks.dlabel.nii').get_fdata().squeeze().astype(int)  # shape: (grayordinates,)\n",
    "subcortical_labels = nib.load(f'{atlas_data_path}/Tian_Subcortex/Tian_Subcortex_S1_3T_32k.dscalar.nii').get_fdata().squeeze().astype(int)  # shape: (grayordinates,)\n",
    "dk_cifti_labels = nib.load(f'{atlas_data_path}/DesikanKilliany/fsaverage/atlas-desikankilliany.dscalar.nii').get_fdata().squeeze().astype(int)  # shape: (grayordinates,)"
   ]
  },
  {
   "cell_type": "code",
   "execution_count": 43,
   "metadata": {},
   "outputs": [],
   "source": [
    "# Load lookup tables\n",
    "cortical_lookup = pd.read_table(f'{atlas_data_path}/Schaefer/HCP/Yan2023_Homotopic/300Parcels_Yeo2011_7Networks_info.txt', header=None)\n",
    "subcortical_lookup = pd.read_table(f'{atlas_data_path}/Tian_Subcortex/Tian_Subcortex_S1_3T_label.txt', header=None)\n",
    "dk_lookup = pd.read_csv(f'{atlas_data_path}/DesikanKilliany/fsaverage/dk_lookup_single_hemi.csv')\n",
    "\n",
    "# Take every other row of cortical_lookup, ignoring the lookup color rows\n",
    "cortical_lookup = (cortical_lookup\n",
    "                   .iloc[::2, :]\n",
    "                   .reset_index(drop=True)\n",
    "                   .rename(columns={0: 'Region'})\n",
    "                   .assign(Region_Index = lambda x: range(1, x.shape[0] + 1))\n",
    ")\n",
    "\n",
    "subcortical_lookup = (subcortical_lookup\n",
    "                      .rename(columns={0: 'Region'})\n",
    "                      .assign(Region_Index = lambda x: range(1, x.shape[0] + 1),\n",
    "                              Base_Region = lambda x: x['Region'].str.split('-').str[0],\n",
    "                              Hemisphere = lambda x: x['Region'].str.split('-').str[1])\n",
    ")"
   ]
  },
  {
   "cell_type": "code",
   "execution_count": 5,
   "metadata": {},
   "outputs": [],
   "source": [
    "unique_cortical_labels = np.unique(cortical_labels)\n",
    "unique_cortical_labels = unique_cortical_labels[unique_cortical_labels != 0]  # Exclude unlabeled (0)\n",
    "\n",
    "# Mean time series for each parcel\n",
    "Schaefer300_homotopic_parcel_timeseries = []\n",
    "for label in unique_cortical_labels:\n",
    "    idx = np.where(cortical_labels == label)[0]\n",
    "    parcel_ts = data[:, idx].mean(axis=1)  # Mean across grayordinates\n",
    "    Schaefer300_homotopic_parcel_timeseries.append(parcel_ts)\n",
    "\n",
    "# Convert to DataFrame for convenience\n",
    "Schaefer300_homotopic_TS_df = pd.DataFrame(Schaefer300_homotopic_parcel_timeseries).T  # shape: (timepoints, parcels)\n",
    "Schaefer300_homotopic_TS_df.columns = cortical_lookup.Region\n"
   ]
  },
  {
   "cell_type": "code",
   "execution_count": 6,
   "metadata": {},
   "outputs": [],
   "source": [
    "unique_subcortical_labels = np.unique(subcortical_labels)\n",
    "unique_subcortical_labels = unique_subcortical_labels[unique_subcortical_labels != 0]  # Exclude unlabeled (0)\n",
    "\n",
    "# Mean time series for each parcel\n",
    "Tian_S1_subcortex_parcel_timeseries = []\n",
    "for label in unique_subcortical_labels:\n",
    "    idx = np.where(subcortical_labels == label)[0]\n",
    "    parcel_ts = data[:, idx].mean(axis=1)  # Mean across grayordinates\n",
    "    Tian_S1_subcortex_parcel_timeseries.append(parcel_ts)\n",
    "\n",
    "# Convert to DataFrame for convenience\n",
    "Tian_S1_subcortex_TS_df = pd.DataFrame(Tian_S1_subcortex_parcel_timeseries).T  # shape: (timepoints, parcels)\n",
    "Tian_S1_subcortex_TS_df.columns = subcortical_lookup.Region"
   ]
  },
  {
   "cell_type": "code",
   "execution_count": 44,
   "metadata": {},
   "outputs": [],
   "source": [
    "unique_DK_labels = np.unique(dk_cifti_labels)\n",
    "unique_DK_labels = unique_DK_labels[unique_DK_labels != 0]  # Exclude unlabeled (0)\n",
    "\n",
    "# Mean time series for each parcel\n",
    "DesikanKilliany_parcel_timeseries = []\n",
    "for label in unique_DK_labels:\n",
    "    idx = np.where(dk_cifti_labels == label)[0]\n",
    "    parcel_ts = data[:, idx].mean(axis=1)  # Mean across grayordinates\n",
    "    DesikanKilliany_parcel_timeseries.append(parcel_ts)\n",
    "\n",
    "# Convert to DataFrame for convenience\n",
    "DesikanKilliany_TS_df = pd.DataFrame(DesikanKilliany_parcel_timeseries).T  # shape: (timepoints, parcels)\n",
    "DesikanKilliany_TS_df.columns = dk_lookup['Region'].values"
   ]
  }
 ],
 "metadata": {
  "kernelspec": {
   "display_name": "annie_env",
   "language": "python",
   "name": "python3"
  },
  "language_info": {
   "codemirror_mode": {
    "name": "ipython",
    "version": 3
   },
   "file_extension": ".py",
   "mimetype": "text/x-python",
   "name": "python",
   "nbconvert_exporter": "python",
   "pygments_lexer": "ipython3",
   "version": "3.9.13"
  }
 },
 "nbformat": 4,
 "nbformat_minor": 2
}
